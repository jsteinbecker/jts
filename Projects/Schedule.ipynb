{
 "cells": [
  {
   "cell_type": "code",
   "execution_count": 1437,
   "metadata": {},
   "outputs": [],
   "source": [
    "import numpy as np\n"
   ]
  },
  {
   "cell_type": "code",
   "execution_count": 1438,
   "metadata": {},
   "outputs": [
    {
     "data": {
      "text/plain": [
       "array([[-1., -1., -1., -1.,  0.,  0.,  0.,  0.,  0.,  0.,  0.,  0.,  0.,\n",
       "         0.],\n",
       "       [ 0.,  0.,  0.,  0.,  8.,  8.,  8.,  8.,  8.,  8.,  8.,  0.,  0.,\n",
       "         0.],\n",
       "       [ 0.,  0.,  0.,  0.,  7.,  7.,  7.,  7.,  7.,  7.,  7.,  0.,  0.,\n",
       "         0.],\n",
       "       [ 0.,  0.,  0.,  0.,  0.,  0.,  0.,  0.,  0.,  0.,  0.,  0.,  0.,\n",
       "         0.],\n",
       "       [ 0.,  0.,  0.,  0.,  0.,  0.,  0.,  0.,  0.,  0.,  0.,  0.,  0.,\n",
       "         0.],\n",
       "       [ 0.,  0.,  0.,  0.,  0.,  0.,  0.,  0.,  0.,  0.,  0.,  0.,  0.,\n",
       "         0.],\n",
       "       [ 0.,  0.,  0.,  3.,  3.,  3.,  3.,  3.,  3.,  3.,  3.,  0.,  0.,\n",
       "         0.],\n",
       "       [ 0.,  0.,  0.,  0.,  0., -1., -1.,  0.,  0.,  0.,  0.,  0.,  0.,\n",
       "         0.],\n",
       "       [ 0.,  0.,  0.,  0.,  0.,  0.,  0.,  0.,  0.,  0.,  0.,  0.,  0.,\n",
       "         0.],\n",
       "       [ 0.,  0.,  0.,  0.,  0.,  0.,  0.,  0.,  0.,  0.,  0.,  0.,  0.,\n",
       "         0.],\n",
       "       [ 0.,  0.,  0.,  0.,  0.,  0.,  0.,  0.,  0.,  0.,  0.,  0.,  0.,\n",
       "         0.],\n",
       "       [ 0.,  0.,  0.,  0.,  0.,  0.,  0.,  0.,  0.,  0.,  0.,  0.,  0.,\n",
       "         0.],\n",
       "       [ 0.,  0.,  0.,  0.,  0.,  0.,  0.,  0.,  0.,  0.,  0.,  0.,  0.,\n",
       "         0.],\n",
       "       [ 0.,  0.,  0.,  0.,  0.,  0.,  0.,  0.,  0.,  0.,  0.,  0.,  0.,\n",
       "         0.]])"
      ]
     },
     "execution_count": 1438,
     "metadata": {},
     "output_type": "execute_result"
    }
   ],
   "source": [
    "grid = np.zeros((14,14))\n",
    "grid[0][0:4] = -1\n",
    "grid[1][4:11] = 8\n",
    "grid[2][4:11] = 7\n",
    "grid[6][3:11] = 3\n",
    "grid [7][5:7] = -1\n",
    "grid"
   ]
  },
  {
   "cell_type": "code",
   "execution_count": 1439,
   "metadata": {},
   "outputs": [
    {
     "data": {
      "text/plain": [
       "0.0"
      ]
     },
     "execution_count": 1439,
     "metadata": {},
     "output_type": "execute_result"
    }
   ],
   "source": [
    "def employeeview (empID):\n",
    "   return grid[empID]\n",
    "def dayview (dayID):\n",
    "   d = grid.transpose()\n",
    "   return d[dayID]\n",
    "dayview(7)[8]"
   ]
  },
  {
   "cell_type": "code",
   "execution_count": 1440,
   "metadata": {},
   "outputs": [],
   "source": [
    "def countEmpShifts (empID):\n",
    "   view = employeeview(empID)\n",
    "   count = 0\n",
    "   for x in view:\n",
    "      if x > 0 or x == -1:\n",
    "         count += 1\n",
    "   return count"
   ]
  },
  {
   "cell_type": "code",
   "execution_count": 1441,
   "metadata": {},
   "outputs": [
    {
     "data": {
      "text/plain": [
       "[4, 7, 7, 0, 0, 0, 8, 2, 0, 0, 0, 0, 0, 0]"
      ]
     },
     "execution_count": 1441,
     "metadata": {},
     "output_type": "execute_result"
    }
   ],
   "source": [
    "def AllEmpCount ():\n",
    "   callEmpCount = []\n",
    "   for x in range(14):\n",
    "      c = countEmpShifts(x)\n",
    "      callEmpCount.append(c)\n",
    "   return callEmpCount\n",
    "AllEmpCount()"
   ]
  },
  {
   "cell_type": "code",
   "execution_count": 1442,
   "metadata": {},
   "outputs": [],
   "source": [
    "empFTE = [7,7,8,7,8,8,8,7,8,8,5,5,8,8]\n",
    "def notUnderFTE (e):\n",
    "   if AllEmpCount()[e] < empFTE[e]:\n",
    "      return True\n",
    "   # for x in range(len(s)):\n",
    "   #    if s[x] <= empFTE[x]:\n",
    "   #       return True\n",
    "   return False"
   ]
  },
  {
   "cell_type": "code",
   "execution_count": 1443,
   "metadata": {},
   "outputs": [
    {
     "data": {
      "text/plain": [
       "True"
      ]
     },
     "execution_count": 1443,
     "metadata": {},
     "output_type": "execute_result"
    }
   ],
   "source": [
    "notUnderFTE(2)"
   ]
  },
  {
   "cell_type": "code",
   "execution_count": 1444,
   "metadata": {},
   "outputs": [],
   "source": [
    "trainedfor = [[0,1,2,3,4,5,6,7,8],\n",
    "              [0,1,2,3,4,5,6,7,8],\n",
    "              [5,6,7,8],\n",
    "              [5,6,7,8],\n",
    "              [3,5,8],\n",
    "              [0,1,2,3,4,5,6,7,8],\n",
    "              [3],\n",
    "              [0,1,2,4,5,6,7,8],\n",
    "              [1,2],\n",
    "              [0,1,2,3,4,5,6,7,8],\n",
    "              [0,1,2,3,4,5,6,7,8],\n",
    "              [0,1,2,3,4,5,6,7,8],\n",
    "              [0,1,2,3,4,5,6,7,8],\n",
    "              [0,1,2,3,4,5,6,7,8]]"
   ]
  },
  {
   "cell_type": "code",
   "execution_count": 1445,
   "metadata": {},
   "outputs": [
    {
     "data": {
      "text/plain": [
       "array([[0., 0., 0., 0., 0., 0., 0., 0., 0., 0., 0., 0., 0., 0.]])"
      ]
     },
     "execution_count": 1445,
     "metadata": {},
     "output_type": "execute_result"
    }
   ],
   "source": [
    "grid[[5]]"
   ]
  },
  {
   "cell_type": "code",
   "execution_count": 1446,
   "metadata": {},
   "outputs": [
    {
     "name": "stdout",
     "output_type": "stream",
     "text": [
      "True\n"
     ]
    }
   ],
   "source": [
    "def isTrainedFor ():\n",
    "   val = []\n",
    "   celllist = []\n",
    "   for e in range(9):\n",
    "      for x in employeeview(e):\n",
    "         if x > 0:\n",
    "            if x in trainedfor[e]:\n",
    "               val.append(\"T\")\n",
    "            else:\n",
    "               cell = f'emp={e},s={x}'\n",
    "               celllist.append(cell)\n",
    "               val.append(\"F\")\n",
    "         if x == 0:\n",
    "            val.append(\"T\")\n",
    "   if val.count('F') == 0:\n",
    "      return True\n",
    "   else:\n",
    "      return False, celllist\n",
    "print(isTrainedFor())"
   ]
  },
  {
   "cell_type": "code",
   "execution_count": 1447,
   "metadata": {},
   "outputs": [],
   "source": [
    "def emptrained (e,s):\n",
    "   if s in trainedfor[e]:\n",
    "      return True\n",
    "   else:\n",
    "      return False"
   ]
  },
  {
   "cell_type": "code",
   "execution_count": 1448,
   "metadata": {},
   "outputs": [],
   "source": [
    "def countDayShifts (dayID):\n",
    "   view = dayview(dayID)\n",
    "   count = 0\n",
    "   for x in view:\n",
    "      if x > 0:\n",
    "         count += 1\n",
    "   return count"
   ]
  },
  {
   "cell_type": "code",
   "execution_count": null,
   "metadata": {},
   "outputs": [],
   "source": []
  },
  {
   "cell_type": "code",
   "execution_count": 1449,
   "metadata": {},
   "outputs": [],
   "source": [
    "def cellswithShifts():\n",
    "   count = 0\n",
    "   for x in grid:\n",
    "      for y in x:\n",
    "         if y != 0:\n",
    "            count += 1\n",
    "   return count"
   ]
  },
  {
   "cell_type": "code",
   "execution_count": 1450,
   "metadata": {},
   "outputs": [],
   "source": [
    "def shiftnotonday (d,s):\n",
    "   if s in dayview(d):\n",
    "      return False\n",
    "   return True"
   ]
  },
  {
   "cell_type": "code",
   "execution_count": 1451,
   "metadata": {},
   "outputs": [],
   "source": [
    "def noturnaround(e,d,s):\n",
    "   if s>5 and d !=13:\n",
    "      if grid[e][d+1] != 0:\n",
    "         if grid[e][d+1] < 5:\n",
    "            return False\n",
    "   if s<4 and d !=0:\n",
    "      if grid[e][d-1] !=0:\n",
    "         if grid[e][d-1] > 5:\n",
    "            return False\n",
    "   return True"
   ]
  },
  {
   "cell_type": "code",
   "execution_count": 1452,
   "metadata": {},
   "outputs": [],
   "source": [
    "def solveCell (d,e,s):\n",
    "   x = emptrained(e,s)\n",
    "   y = notUnderFTE(e)\n",
    "   z = shiftnotonday(d,s)\n",
    "   if x == True:\n",
    "      if y == True:\n",
    "         if z == True:\n",
    "            grid[e][d]=s\n",
    "   return False"
   ]
  },
  {
   "cell_type": "code",
   "execution_count": 1453,
   "metadata": {},
   "outputs": [
    {
     "name": "stdout",
     "output_type": "stream",
     "text": [
      "[7, 7, 8, 7, 5, 8, 8, 7, 8, 8, 5, 5, 8, 8] 99\n",
      "[[-1. -1. -1. -1.  2.  0.  0.  0.  2.  0.  0.  0.  0.  8.]\n",
      " [ 0.  0.  0.  0.  8.  8.  8.  8.  8.  8.  8.  0.  0.  0.]\n",
      " [ 8.  0.  0.  0.  7.  7.  7.  7.  7.  7.  7.  0.  0.  0.]\n",
      " [ 6.  8.  8.  0.  6.  0.  0.  5.  0.  0.  0.  0.  6.  5.]\n",
      " [ 5.  0.  0.  0.  0.  5.  0.  0.  0.  5.  5.  0.  5.  0.]\n",
      " [ 7.  0.  4.  5.  0.  0.  5.  6.  0.  4.  0.  5.  0.  3.]\n",
      " [ 0.  0.  0.  3.  3.  3.  3.  3.  3.  3.  3.  0.  0.  0.]\n",
      " [ 0.  0.  0.  0.  0. -1. -1.  4.  0.  0.  4.  6.  8.  6.]\n",
      " [ 1.  0.  0.  2.  1.  1.  1.  1.  0.  0.  1.  1.  0.  0.]\n",
      " [ 4.  5.  3.  0.  0.  6.  4.  2.  0.  6.  0.  8.  0.  0.]\n",
      " [ 0.  0.  6.  7.  4.  0.  0.  0.  0.  0.  6.  0.  1.  0.]\n",
      " [ 0.  7.  0.  0.  0.  0.  0.  0.  1.  1.  0.  3.  3.  0.]\n",
      " [ 3.  3.  2.  8.  5.  0.  0.  0.  5.  0.  0.  7.  0.  1.]\n",
      " [ 0.  2.  5.  6.  0.  0.  6.  0.  6.  0.  2.  4.  0.  4.]]\n"
     ]
    }
   ],
   "source": [
    "x = 0\n",
    "while x < 10000:\n",
    "   d =np.random.randint(0,14)\n",
    "   e = np.random.randint(0,14)\n",
    "   s = np.random.randint(0,9)\n",
    "   if grid[e][d] == 0 and notUnderFTE(e) == True and noturnaround(e,d,s) == True:\n",
    "      #print (grid[e][d],e,d,s,shiftnotonday(d,s),notUnderFTE(e))\n",
    "      solveCell(d,e,s)\n",
    "      x +=1\n",
    "   else:\n",
    "      x +=1\n",
    "print(AllEmpCount(),cellswithShifts())\n",
    "print(grid)"
   ]
  },
  {
   "cell_type": "code",
   "execution_count": 1454,
   "metadata": {},
   "outputs": [],
   "source": [
    "for x in grid.transpose():\n",
    "   y = np.setxor1d(range(9),x)\n",
    "   z = np.intersect1d(y,range(9))\n",
    "   z\n"
   ]
  },
  {
   "cell_type": "code",
   "execution_count": 1455,
   "metadata": {},
   "outputs": [
    {
     "name": "stdout",
     "output_type": "stream",
     "text": [
      "NCMC CPHT SCHEDULE | 2 WEEK\n",
      "------------------------------------------------------------\n",
      "ptoptoptopto7C .  .  .  7C .  .  .  .  N  | EMPLOYEE_NAME\n",
      ".  .  .  .  N  N  N  N  N  N  N  .  .  .  | EMPLOYEE_NAME\n",
      "N  .  .  .  3  3  3  3  3  3  3  .  .  .  | EMPLOYEE_NAME\n",
      "EP N  N  .  EP .  .  EI .  .  .  .  EP EI | EMPLOYEE_NAME\n",
      "EI .  .  .  .  EI .  .  .  EI EI .  EI .  | EMPLOYEE_NAME\n",
      "3  .  S  EI .  .  EI EP .  S  .  EI .  7P | EMPLOYEE_NAME\n",
      ".  .  .  7P 7P 7P 7P 7P 7P 7P 7P .  .  .  | EMPLOYEE_NAME\n",
      ".  .  .  .  .  ptoptoS  .  .  S  EP N  EP | EMPLOYEE_NAME\n",
      "MI .  .  7C MI MI MI MI .  .  MI MI .  .  | EMPLOYEE_NAME\n",
      "S  EI 7P .  .  EP S  7C .  EP .  N  .  .  | EMPLOYEE_NAME\n",
      ".  .  EP 3  S  .  .  .  .  .  EP .  MI .  | EMPLOYEE_NAME\n",
      ".  3  .  .  .  .  .  .  MI MI .  7P 7P .  | EMPLOYEE_NAME\n",
      "7P 7P 7C N  EI .  .  .  EI .  .  3  .  MI | EMPLOYEE_NAME\n",
      ".  7C EI EP .  .  EP .  EP .  7C S  .  S  | EMPLOYEE_NAME\n",
      "-----------------------------------------------------------------\n",
      "99\n"
     ]
    }
   ],
   "source": [
    "print(\"NCMC CPHT SCHEDULE | 2 WEEK\")\n",
    "print(\"-\"*60)\n",
    "new = \"\"\n",
    "for i in range(len(grid)):\n",
    "   myrow = \"\"\n",
    "   for x in grid[i]:\n",
    "      if x == 8:\n",
    "         myrow += \"N  \"\n",
    "      if x == 7:\n",
    "         myrow += \"3  \"\n",
    "      if x== 6:\n",
    "         myrow += \"EP \"\n",
    "      if x == 5:\n",
    "         myrow += \"EI \"\n",
    "      if x == 4:\n",
    "         myrow += \"S  \"\n",
    "      if x == 3:\n",
    "         myrow += \"7P \"\n",
    "      if x == 2:\n",
    "         myrow += \"7C \"\n",
    "      if x == 1:\n",
    "         myrow += \"MI \"\n",
    "      if x == 0:\n",
    "         myrow += \".  \"\n",
    "      if x == -1:\n",
    "         myrow += \"pto\"\n",
    "   myrow += \"| EMPLOYEE_NAME\"\n",
    "   new += myrow + \"\\n\"\n",
    "new += \"-\"*65\n",
    "\n",
    "print(new)\n",
    "print(cellswithShifts())\n",
    "\n",
    "   "
   ]
  }
 ],
 "metadata": {
  "interpreter": {
   "hash": "8fd295a7007e560b192f709854f66b36915a5382ae77c4fca9f0e6f21003d31e"
  },
  "kernelspec": {
   "display_name": "Python 3.9.5 64-bit ('base': conda)",
   "language": "python",
   "name": "python3"
  },
  "language_info": {
   "codemirror_mode": {
    "name": "ipython",
    "version": 3
   },
   "file_extension": ".py",
   "mimetype": "text/x-python",
   "name": "python",
   "nbconvert_exporter": "python",
   "pygments_lexer": "ipython3",
   "version": "3.9.5"
  },
  "orig_nbformat": 4
 },
 "nbformat": 4,
 "nbformat_minor": 2
}
