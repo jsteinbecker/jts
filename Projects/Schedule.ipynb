{
 "cells": [
  {
   "cell_type": "code",
   "execution_count": 940,
   "metadata": {},
   "outputs": [],
   "source": [
    "import numpy as np\n"
   ]
  },
  {
   "cell_type": "code",
   "execution_count": 941,
   "metadata": {},
   "outputs": [
    {
     "data": {
      "text/plain": [
       "array([[0., 0., 0., 0., 0., 0., 0., 0., 0., 0., 0., 0., 0., 0.],\n",
       "       [0., 0., 0., 0., 0., 0., 0., 0., 0., 0., 0., 0., 0., 0.],\n",
       "       [0., 0., 0., 0., 0., 0., 0., 0., 0., 0., 0., 0., 0., 0.],\n",
       "       [0., 0., 0., 0., 0., 0., 0., 0., 0., 0., 0., 0., 0., 0.],\n",
       "       [0., 0., 0., 0., 0., 0., 0., 0., 0., 0., 0., 0., 0., 0.],\n",
       "       [0., 0., 0., 0., 0., 0., 0., 0., 0., 0., 0., 0., 0., 0.],\n",
       "       [0., 0., 0., 0., 0., 0., 0., 0., 0., 0., 0., 0., 0., 0.],\n",
       "       [0., 0., 0., 0., 0., 0., 0., 0., 0., 0., 0., 0., 0., 0.],\n",
       "       [0., 0., 0., 0., 0., 0., 0., 0., 0., 0., 0., 0., 0., 0.]])"
      ]
     },
     "execution_count": 941,
     "metadata": {},
     "output_type": "execute_result"
    }
   ],
   "source": [
    "grid = np.zeros((9,14))\n",
    "\n",
    "grid"
   ]
  },
  {
   "cell_type": "code",
   "execution_count": 942,
   "metadata": {},
   "outputs": [
    {
     "data": {
      "text/plain": [
       "0.0"
      ]
     },
     "execution_count": 942,
     "metadata": {},
     "output_type": "execute_result"
    }
   ],
   "source": [
    "def employeeview (empID):\n",
    "   return grid[empID]\n",
    "def dayview (dayID):\n",
    "   d = grid.transpose()\n",
    "   return d[dayID]\n",
    "dayview(7)[8]"
   ]
  },
  {
   "cell_type": "code",
   "execution_count": 943,
   "metadata": {},
   "outputs": [],
   "source": [
    "def countEmpShifts (empID):\n",
    "   view = employeeview(empID)\n",
    "   count = 0\n",
    "   for x in view:\n",
    "      if x > 0:\n",
    "         count += 1\n",
    "   return count"
   ]
  },
  {
   "cell_type": "code",
   "execution_count": 944,
   "metadata": {},
   "outputs": [
    {
     "data": {
      "text/plain": [
       "[0, 0, 0, 0, 0, 0, 0, 0, 0]"
      ]
     },
     "execution_count": 944,
     "metadata": {},
     "output_type": "execute_result"
    }
   ],
   "source": [
    "def AllEmpCount ():\n",
    "   callEmpCount = []\n",
    "   for x in range(9):\n",
    "      c = countEmpShifts(x)\n",
    "      callEmpCount.append(c)\n",
    "   return callEmpCount\n",
    "AllEmpCount()"
   ]
  },
  {
   "cell_type": "code",
   "execution_count": 945,
   "metadata": {},
   "outputs": [],
   "source": [
    "empFTE = [7,7,8,7,8,8,8,7,5]\n",
    "def notUnderFTE (e):\n",
    "   if AllEmpCount()[e] < empFTE[e]:\n",
    "      return True\n",
    "   # for x in range(len(s)):\n",
    "   #    if s[x] <= empFTE[x]:\n",
    "   #       return True\n",
    "   return False"
   ]
  },
  {
   "cell_type": "code",
   "execution_count": 946,
   "metadata": {},
   "outputs": [
    {
     "data": {
      "text/plain": [
       "True"
      ]
     },
     "execution_count": 946,
     "metadata": {},
     "output_type": "execute_result"
    }
   ],
   "source": [
    "notUnderFTE(2)"
   ]
  },
  {
   "cell_type": "code",
   "execution_count": 947,
   "metadata": {},
   "outputs": [],
   "source": [
    "trainedfor = [[0,1,2,3,4,5,6,7,8],\n",
    "              [0,1,2,3,4,5,6,7,8],\n",
    "              [5,6,7,8],\n",
    "              [5,6,7,8],\n",
    "              [3,5,8],\n",
    "              [5,8],\n",
    "              [0,1,2,4,5,6,7,8],\n",
    "              [1,2],\n",
    "              [0,1,2,3,4,5,6,7,8]]"
   ]
  },
  {
   "cell_type": "code",
   "execution_count": 948,
   "metadata": {},
   "outputs": [
    {
     "data": {
      "text/plain": [
       "array([[0., 0., 0., 0., 0., 0., 0., 0., 0., 0., 0., 0., 0., 0.]])"
      ]
     },
     "execution_count": 948,
     "metadata": {},
     "output_type": "execute_result"
    }
   ],
   "source": [
    "grid[[5]]"
   ]
  },
  {
   "cell_type": "code",
   "execution_count": 949,
   "metadata": {},
   "outputs": [
    {
     "name": "stdout",
     "output_type": "stream",
     "text": [
      "True\n"
     ]
    }
   ],
   "source": [
    "def isTrainedFor ():\n",
    "   val = []\n",
    "   celllist = []\n",
    "   for e in range(9):\n",
    "      for x in employeeview(e):\n",
    "         if x > 0:\n",
    "            if x in trainedfor[e]:\n",
    "               val.append(\"T\")\n",
    "            else:\n",
    "               cell = f'emp={e},s={x}'\n",
    "               celllist.append(cell)\n",
    "               val.append(\"F\")\n",
    "         if x == 0:\n",
    "            val.append(\"T\")\n",
    "   if val.count('F') == 0:\n",
    "      return True\n",
    "   else:\n",
    "      return False, celllist\n",
    "print(isTrainedFor())"
   ]
  },
  {
   "cell_type": "code",
   "execution_count": 950,
   "metadata": {},
   "outputs": [],
   "source": [
    "def emptrained (e,s):\n",
    "   if s in trainedfor[e]:\n",
    "      return True\n",
    "   else:\n",
    "      return False"
   ]
  },
  {
   "cell_type": "code",
   "execution_count": 951,
   "metadata": {},
   "outputs": [],
   "source": [
    "def countDayShifts (dayID):\n",
    "   view = dayview(dayID)\n",
    "   count = 0\n",
    "   for x in view:\n",
    "      if x > 0:\n",
    "         count += 1\n",
    "   return count"
   ]
  },
  {
   "cell_type": "code",
   "execution_count": null,
   "metadata": {},
   "outputs": [],
   "source": []
  },
  {
   "cell_type": "code",
   "execution_count": 952,
   "metadata": {},
   "outputs": [],
   "source": [
    "def cellswithShifts():\n",
    "   count = 0\n",
    "   for x in grid:\n",
    "      for y in x:\n",
    "         if y != 0:\n",
    "            count += 1\n",
    "   return count"
   ]
  },
  {
   "cell_type": "code",
   "execution_count": 953,
   "metadata": {},
   "outputs": [],
   "source": [
    "def shiftnotonday (d,s):\n",
    "   if s in dayview(d):\n",
    "      return False\n",
    "   return True"
   ]
  },
  {
   "cell_type": "code",
   "execution_count": 954,
   "metadata": {},
   "outputs": [],
   "source": [
    "def noturnaround(e,d,s):\n",
    "   if s>5 and d !=13:\n",
    "      if grid[e][d+1] != 0:\n",
    "         if grid[e][d+1] < 5:\n",
    "            return False\n",
    "   return True"
   ]
  },
  {
   "cell_type": "code",
   "execution_count": 955,
   "metadata": {},
   "outputs": [],
   "source": [
    "def solveCell (d,e,s):\n",
    "   x = emptrained(e,s)\n",
    "   y = notUnderFTE(e)\n",
    "   z = shiftnotonday(d,s)\n",
    "   if x == True:\n",
    "      if y == True:\n",
    "         if z == True:\n",
    "            grid[e][d]=s\n",
    "   return False"
   ]
  },
  {
   "cell_type": "code",
   "execution_count": 958,
   "metadata": {},
   "outputs": [
    {
     "name": "stdout",
     "output_type": "stream",
     "text": [
      "[7, 7, 8, 7, 8, 8, 8, 7, 5] 65\n",
      "[[3. 0. 0. 4. 1. 1. 0. 7. 2. 0. 0. 0. 8. 0.]\n",
      " [5. 2. 2. 5. 0. 0. 0. 0. 8. 0. 0. 7. 4. 0.]\n",
      " [7. 7. 0. 6. 0. 8. 8. 0. 0. 7. 5. 0. 0. 6.]\n",
      " [0. 6. 7. 0. 0. 0. 5. 0. 6. 0. 8. 0. 6. 5.]\n",
      " [8. 8. 0. 0. 3. 5. 0. 3. 0. 0. 3. 0. 5. 3.]\n",
      " [0. 5. 5. 8. 5. 0. 0. 5. 5. 5. 0. 5. 0. 0.]\n",
      " [0. 0. 1. 2. 8. 0. 0. 2. 4. 8. 1. 8. 0. 0.]\n",
      " [2. 0. 0. 1. 0. 2. 0. 1. 0. 0. 2. 2. 1. 0.]\n",
      " [0. 0. 8. 0. 6. 0. 0. 0. 1. 0. 0. 1. 0. 7.]]\n"
     ]
    }
   ],
   "source": [
    "x = 0\n",
    "while x < 10000:\n",
    "   d =np.random.randint(0,14)\n",
    "   e = np.random.randint(0,9)\n",
    "   s = np.random.randint(0,9)\n",
    "   if grid[e][d] == 0 and notUnderFTE(e) == True and noturnaround(e,d,s) == True:\n",
    "      #print (grid[e][d],e,d,s,shiftnotonday(d,s),notUnderFTE(e))\n",
    "      solveCell(d,e,s)\n",
    "      x +=1\n",
    "   else:\n",
    "      x +=1\n",
    "print(AllEmpCount(),cellswithShifts())\n",
    "print(grid)"
   ]
  }
 ],
 "metadata": {
  "interpreter": {
   "hash": "8fd295a7007e560b192f709854f66b36915a5382ae77c4fca9f0e6f21003d31e"
  },
  "kernelspec": {
   "display_name": "Python 3.9.5 64-bit ('base': conda)",
   "language": "python",
   "name": "python3"
  },
  "language_info": {
   "codemirror_mode": {
    "name": "ipython",
    "version": 3
   },
   "file_extension": ".py",
   "mimetype": "text/x-python",
   "name": "python",
   "nbconvert_exporter": "python",
   "pygments_lexer": "ipython3",
   "version": "3.9.5"
  },
  "orig_nbformat": 4
 },
 "nbformat": 4,
 "nbformat_minor": 2
}
