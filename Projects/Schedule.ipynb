{
 "cells": [
  {
   "cell_type": "code",
   "execution_count": 1139,
   "metadata": {},
   "outputs": [],
   "source": [
    "import numpy as np\n"
   ]
  },
  {
   "cell_type": "code",
   "execution_count": 1140,
   "metadata": {},
   "outputs": [
    {
     "data": {
      "text/plain": [
       "array([[-1., -1., -1., -1.,  0.,  0.,  0.,  0.,  0.,  0.,  0.,  0.,  0.,\n",
       "         0.],\n",
       "       [ 0.,  0.,  0.,  0.,  8.,  8.,  8.,  8.,  8.,  8.,  8.,  0.,  0.,\n",
       "         0.],\n",
       "       [ 0.,  0.,  0.,  0.,  0.,  0.,  0.,  0.,  0.,  0.,  0.,  0.,  0.,\n",
       "         0.],\n",
       "       [ 0.,  0.,  0.,  0.,  0.,  0.,  0.,  0.,  0.,  0.,  0.,  0.,  0.,\n",
       "         0.],\n",
       "       [ 0.,  0.,  0.,  0.,  0.,  0.,  0.,  0.,  0.,  0.,  0.,  0.,  0.,\n",
       "         0.],\n",
       "       [ 0.,  0.,  0.,  0.,  0.,  0.,  0.,  0.,  0.,  0.,  0.,  0.,  0.,\n",
       "         0.],\n",
       "       [ 0.,  0.,  0.,  0.,  0.,  0.,  0.,  0.,  0.,  0.,  0.,  0.,  0.,\n",
       "         0.],\n",
       "       [ 0.,  0.,  0.,  0.,  0., -1., -1.,  0.,  0.,  0.,  0.,  0.,  0.,\n",
       "         0.],\n",
       "       [ 0.,  0.,  0.,  0.,  0.,  0.,  0.,  0.,  0.,  0.,  0.,  0.,  0.,\n",
       "         0.],\n",
       "       [ 0.,  0.,  0.,  0.,  0.,  0.,  0.,  0.,  0.,  0.,  0.,  0.,  0.,\n",
       "         0.],\n",
       "       [ 0.,  0.,  0.,  0.,  0.,  0.,  0.,  0.,  0.,  0.,  0.,  0.,  0.,\n",
       "         0.],\n",
       "       [ 0.,  0.,  0.,  0.,  0.,  0.,  0.,  0.,  0.,  0.,  0.,  0.,  0.,\n",
       "         0.],\n",
       "       [ 0.,  0.,  0.,  0.,  0.,  0.,  0.,  0.,  0.,  0.,  0.,  0.,  0.,\n",
       "         0.],\n",
       "       [ 0.,  0.,  0.,  0.,  0.,  0.,  0.,  0.,  0.,  0.,  0.,  0.,  0.,\n",
       "         0.]])"
      ]
     },
     "execution_count": 1140,
     "metadata": {},
     "output_type": "execute_result"
    }
   ],
   "source": [
    "grid = np.zeros((14,14))\n",
    "grid[0][0:4] = -1\n",
    "grid[1][4:11] = 8\n",
    "grid [7][5:7] = -1\n",
    "grid"
   ]
  },
  {
   "cell_type": "code",
   "execution_count": 1141,
   "metadata": {},
   "outputs": [
    {
     "data": {
      "text/plain": [
       "0.0"
      ]
     },
     "execution_count": 1141,
     "metadata": {},
     "output_type": "execute_result"
    }
   ],
   "source": [
    "def employeeview (empID):\n",
    "   return grid[empID]\n",
    "def dayview (dayID):\n",
    "   d = grid.transpose()\n",
    "   return d[dayID]\n",
    "dayview(7)[8]"
   ]
  },
  {
   "cell_type": "code",
   "execution_count": 1142,
   "metadata": {},
   "outputs": [],
   "source": [
    "def countEmpShifts (empID):\n",
    "   view = employeeview(empID)\n",
    "   count = 0\n",
    "   for x in view:\n",
    "      if x > 0:\n",
    "         count += 1\n",
    "   return count"
   ]
  },
  {
   "cell_type": "code",
   "execution_count": 1143,
   "metadata": {},
   "outputs": [
    {
     "data": {
      "text/plain": [
       "[0, 7, 0, 0, 0, 0, 0, 0, 0, 0, 0, 0, 0, 0]"
      ]
     },
     "execution_count": 1143,
     "metadata": {},
     "output_type": "execute_result"
    }
   ],
   "source": [
    "def AllEmpCount ():\n",
    "   callEmpCount = []\n",
    "   for x in range(14):\n",
    "      c = countEmpShifts(x)\n",
    "      callEmpCount.append(c)\n",
    "   return callEmpCount\n",
    "AllEmpCount()"
   ]
  },
  {
   "cell_type": "code",
   "execution_count": 1144,
   "metadata": {},
   "outputs": [],
   "source": [
    "empFTE = [7,7,8,7,8,8,8,7,8,8,5,5,8,8]\n",
    "def notUnderFTE (e):\n",
    "   if AllEmpCount()[e] < empFTE[e]:\n",
    "      return True\n",
    "   # for x in range(len(s)):\n",
    "   #    if s[x] <= empFTE[x]:\n",
    "   #       return True\n",
    "   return False"
   ]
  },
  {
   "cell_type": "code",
   "execution_count": 1145,
   "metadata": {},
   "outputs": [
    {
     "data": {
      "text/plain": [
       "True"
      ]
     },
     "execution_count": 1145,
     "metadata": {},
     "output_type": "execute_result"
    }
   ],
   "source": [
    "notUnderFTE(2)"
   ]
  },
  {
   "cell_type": "code",
   "execution_count": 1146,
   "metadata": {},
   "outputs": [],
   "source": [
    "trainedfor = [[0,1,2,3,4,5,6,7,8],\n",
    "              [0,1,2,3,4,5,6,7,8],\n",
    "              [5,6,7,8],\n",
    "              [5,6,7,8],\n",
    "              [3,5,8],\n",
    "              [5,8],\n",
    "              [0,1,2,4,5,6,7,8],\n",
    "              [1,2],\n",
    "              [0,1,2,3,4,5,6,7,8],\n",
    "              [0,1,2,3,4,5,6,7,8],\n",
    "              [0,1,2,3,4,5,6,7,8],\n",
    "              [0,1,2,3,4,5,6,7,8],\n",
    "              [0,1,2,3,4,5,6,7,8],\n",
    "              [0,1,2,3,4,5,6,7,8]]"
   ]
  },
  {
   "cell_type": "code",
   "execution_count": 1147,
   "metadata": {},
   "outputs": [
    {
     "data": {
      "text/plain": [
       "array([[0., 0., 0., 0., 0., 0., 0., 0., 0., 0., 0., 0., 0., 0.]])"
      ]
     },
     "execution_count": 1147,
     "metadata": {},
     "output_type": "execute_result"
    }
   ],
   "source": [
    "grid[[5]]"
   ]
  },
  {
   "cell_type": "code",
   "execution_count": 1148,
   "metadata": {},
   "outputs": [
    {
     "name": "stdout",
     "output_type": "stream",
     "text": [
      "True\n"
     ]
    }
   ],
   "source": [
    "def isTrainedFor ():\n",
    "   val = []\n",
    "   celllist = []\n",
    "   for e in range(9):\n",
    "      for x in employeeview(e):\n",
    "         if x > 0:\n",
    "            if x in trainedfor[e]:\n",
    "               val.append(\"T\")\n",
    "            else:\n",
    "               cell = f'emp={e},s={x}'\n",
    "               celllist.append(cell)\n",
    "               val.append(\"F\")\n",
    "         if x == 0:\n",
    "            val.append(\"T\")\n",
    "   if val.count('F') == 0:\n",
    "      return True\n",
    "   else:\n",
    "      return False, celllist\n",
    "print(isTrainedFor())"
   ]
  },
  {
   "cell_type": "code",
   "execution_count": 1149,
   "metadata": {},
   "outputs": [],
   "source": [
    "def emptrained (e,s):\n",
    "   if s in trainedfor[e]:\n",
    "      return True\n",
    "   else:\n",
    "      return False"
   ]
  },
  {
   "cell_type": "code",
   "execution_count": 1150,
   "metadata": {},
   "outputs": [],
   "source": [
    "def countDayShifts (dayID):\n",
    "   view = dayview(dayID)\n",
    "   count = 0\n",
    "   for x in view:\n",
    "      if x > 0:\n",
    "         count += 1\n",
    "   return count"
   ]
  },
  {
   "cell_type": "code",
   "execution_count": null,
   "metadata": {},
   "outputs": [],
   "source": []
  },
  {
   "cell_type": "code",
   "execution_count": 1151,
   "metadata": {},
   "outputs": [],
   "source": [
    "def cellswithShifts():\n",
    "   count = 0\n",
    "   for x in grid:\n",
    "      for y in x:\n",
    "         if y != 0:\n",
    "            count += 1\n",
    "   return count"
   ]
  },
  {
   "cell_type": "code",
   "execution_count": 1152,
   "metadata": {},
   "outputs": [],
   "source": [
    "def shiftnotonday (d,s):\n",
    "   if s in dayview(d):\n",
    "      return False\n",
    "   return True"
   ]
  },
  {
   "cell_type": "code",
   "execution_count": 1153,
   "metadata": {},
   "outputs": [],
   "source": [
    "def noturnaround(e,d,s):\n",
    "   if s>5 and d !=13:\n",
    "      if grid[e][d+1] != 0:\n",
    "         if grid[e][d+1] < 5:\n",
    "            return False\n",
    "   return True"
   ]
  },
  {
   "cell_type": "code",
   "execution_count": 1154,
   "metadata": {},
   "outputs": [],
   "source": [
    "def solveCell (d,e,s):\n",
    "   x = emptrained(e,s)\n",
    "   y = notUnderFTE(e)\n",
    "   z = shiftnotonday(d,s)\n",
    "   if x == True:\n",
    "      if y == True:\n",
    "         if z == True:\n",
    "            grid[e][d]=s\n",
    "   return False"
   ]
  },
  {
   "cell_type": "code",
   "execution_count": 1155,
   "metadata": {},
   "outputs": [
    {
     "name": "stdout",
     "output_type": "stream",
     "text": [
      "[7, 7, 8, 7, 8, 4, 8, 7, 8, 8, 5, 5, 8, 8] 104\n",
      "[[-1. -1. -1. -1.  1.  1.  1.  5.  0.  4.  6.  6.  0.  0.]\n",
      " [ 0.  0.  0.  0.  8.  8.  8.  8.  8.  8.  8.  0.  0.  0.]\n",
      " [ 6.  6.  7.  7.  7.  0.  0.  0.  0.  5.  0.  0.  5.  5.]\n",
      " [ 8.  0.  8.  5.  0.  6.  0.  7.  0.  0.  0.  8.  0.  6.]\n",
      " [ 5.  0.  5.  0.  5.  5.  3.  0.  3.  0.  0.  0.  3.  3.]\n",
      " [ 0.  5.  0.  0.  0.  0.  5.  0.  0.  0.  0.  5.  0.  8.]\n",
      " [ 1.  0.  4.  0.  0.  7.  0.  0.  1.  6.  7.  7.  8.  0.]\n",
      " [ 0.  0.  1.  2.  0. -1. -1.  1.  2.  1.  2.  1.  0.  0.]\n",
      " [ 0.  1.  0.  6.  2.  2.  7.  0.  6.  0.  0.  0.  2.  7.]\n",
      " [ 3.  0.  2.  0.  0.  4.  0.  0.  4.  7.  0.  3.  1.  2.]\n",
      " [ 7.  8.  0.  8.  0.  0.  0.  0.  0.  3.  0.  0.  7.  0.]\n",
      " [ 0.  0.  0.  4.  3.  0.  4.  0.  0.  0.  1.  0.  0.  1.]\n",
      " [ 0.  7.  6.  3.  0.  0.  6.  0.  7.  0.  5.  4.  0.  4.]\n",
      " [ 4.  4.  0.  0.  6.  3.  2.  0.  5.  2.  0.  0.  6.  0.]]\n"
     ]
    }
   ],
   "source": [
    "x = 0\n",
    "while x < 10000:\n",
    "   d =np.random.randint(0,14)\n",
    "   e = np.random.randint(0,14)\n",
    "   s = np.random.randint(0,9)\n",
    "   if grid[e][d] == 0 and notUnderFTE(e) == True and noturnaround(e,d,s) == True:\n",
    "      #print (grid[e][d],e,d,s,shiftnotonday(d,s),notUnderFTE(e))\n",
    "      solveCell(d,e,s)\n",
    "      x +=1\n",
    "   else:\n",
    "      x +=1\n",
    "print(AllEmpCount(),cellswithShifts())\n",
    "print(grid)"
   ]
  },
  {
   "cell_type": "code",
   "execution_count": 1156,
   "metadata": {},
   "outputs": [
    {
     "name": "stdout",
     "output_type": "stream",
     "text": [
      "[-1.  2.]\n",
      "[-1.  2.  3.]\n",
      "[-1.  3.]\n",
      "[-1.  1.]\n",
      "[4.]\n",
      "[-1.]\n",
      "[-1.]\n",
      "[2. 3. 4. 6.]\n",
      "[]\n",
      "[]\n",
      "[3. 4.]\n",
      "[2.]\n",
      "[4.]\n",
      "[]\n"
     ]
    }
   ],
   "source": [
    "for x in grid.transpose():\n",
    "   y = np.setxor1d(range(9),x)\n",
    "   print (y)\n"
   ]
  },
  {
   "cell_type": "code",
   "execution_count": 1157,
   "metadata": {},
   "outputs": [
    {
     "name": "stdout",
     "output_type": "stream",
     "text": [
      "PTO PTO PTO PTO MI  MI  MI  EI  .   S   EP  EP  .   .   \n",
      ".   .   .   .   N   N   N   N   N   N   N   .   .   .   \n",
      "EP  EP  3   3   3   .   .   .   .   EI  .   .   EI  EI  \n",
      "N   .   N   EI  .   EP  .   3   .   .   .   N   .   EP  \n",
      "EI  .   EI  .   EI  EI  7P  .   7P  .   .   .   7P  7P  \n",
      ".   EI  .   .   .   .   EI  .   .   .   .   EI  .   N   \n",
      "MI  .   S   .   .   3   .   .   MI  EP  3   3   N   .   \n",
      ".   .   MI  7C  .   PTO PTO MI  7C  MI  7C  MI  .   .   \n",
      ".   MI  .   EP  7C  7C  3   .   EP  .   .   .   7C  3   \n",
      "7P  .   7C  .   .   S   .   .   S   3   .   7P  MI  7C  \n",
      "3   N   .   N   .   .   .   .   .   7P  .   .   3   .   \n",
      ".   .   .   S   7P  .   S   .   .   .   MI  .   .   MI  \n",
      ".   3   EP  7P  .   .   EP  .   3   .   EI  S   .   S   \n",
      "S   S   .   .   EP  7P  7C  .   EI  7C  .   .   EP  .   \n",
      "\n"
     ]
    }
   ],
   "source": [
    "new = \"\"\n",
    "for i in range(len(grid)):\n",
    "   myrow = \"\"\n",
    "   for x in grid[i]:\n",
    "      if x == 8:\n",
    "         myrow += \"N   \"\n",
    "      if x == 7:\n",
    "         myrow += \"3   \"\n",
    "      if x== 6:\n",
    "         myrow += \"EP  \"\n",
    "      if x == 5:\n",
    "         myrow += \"EI  \"\n",
    "      if x == 4:\n",
    "         myrow += \"S   \"\n",
    "      if x == 3:\n",
    "         myrow += \"7P  \"\n",
    "      if x == 2:\n",
    "         myrow += \"7C  \"\n",
    "      if x == 1:\n",
    "         myrow += \"MI  \"\n",
    "      if x == 0:\n",
    "         myrow += \".   \"\n",
    "      if x == -1:\n",
    "         myrow += \"PTO \"\n",
    "   new += myrow + \"\\n\"\n",
    "print(new)\n",
    "\n",
    "   "
   ]
  },
  {
   "cell_type": "code",
   "execution_count": 1158,
   "metadata": {},
   "outputs": [],
   "source": [
    "# TO DO: Make sure shift counts DNE 4 per each 7 day block\n",
    "# Needed Shifts for weekend"
   ]
  }
 ],
 "metadata": {
  "interpreter": {
   "hash": "8fd295a7007e560b192f709854f66b36915a5382ae77c4fca9f0e6f21003d31e"
  },
  "kernelspec": {
   "display_name": "Python 3.9.5 64-bit ('base': conda)",
   "language": "python",
   "name": "python3"
  },
  "language_info": {
   "codemirror_mode": {
    "name": "ipython",
    "version": 3
   },
   "file_extension": ".py",
   "mimetype": "text/x-python",
   "name": "python",
   "nbconvert_exporter": "python",
   "pygments_lexer": "ipython3",
   "version": "3.9.5"
  },
  "orig_nbformat": 4
 },
 "nbformat": 4,
 "nbformat_minor": 2
}
