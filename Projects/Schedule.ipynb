{
 "cells": [
  {
   "cell_type": "code",
   "execution_count": 216,
   "metadata": {},
   "outputs": [],
   "source": [
    "import numpy as np\n"
   ]
  },
  {
   "cell_type": "code",
   "execution_count": 217,
   "metadata": {},
   "outputs": [
    {
     "data": {
      "text/plain": [
       "array([[-1., -1., -1., -1.,  0.,  0.,  0.,  0.,  0.,  0.,  0.,  0.,  0.,\n",
       "         0.],\n",
       "       [ 0.,  0.,  0.,  0.,  8.,  8.,  8.,  8.,  8.,  8.,  8.,  0.,  0.,\n",
       "         0.],\n",
       "       [ 0.,  0.,  0.,  0.,  7.,  7.,  7.,  7.,  7.,  7.,  7.,  0.,  0.,\n",
       "         0.],\n",
       "       [ 0.,  0.,  0.,  0.,  0.,  0.,  0.,  0.,  0.,  0.,  0.,  0.,  0.,\n",
       "         0.],\n",
       "       [ 0.,  0.,  0.,  0.,  0.,  0.,  0.,  0.,  0.,  0.,  0.,  0.,  0.,\n",
       "         0.],\n",
       "       [ 0.,  0.,  0.,  0.,  0.,  0.,  0.,  0.,  0.,  0.,  0.,  0.,  0.,\n",
       "         0.],\n",
       "       [ 0.,  0.,  0.,  3.,  3.,  3.,  3.,  3.,  3.,  3.,  3.,  0.,  0.,\n",
       "         0.],\n",
       "       [ 0.,  0.,  0.,  0.,  0., -1., -1.,  0.,  0.,  0.,  0.,  0.,  0.,\n",
       "         0.],\n",
       "       [ 0.,  0.,  0.,  0.,  0.,  0.,  0.,  0.,  0.,  0.,  0.,  0.,  0.,\n",
       "         0.],\n",
       "       [ 0.,  0.,  0.,  0.,  0.,  0.,  0.,  0.,  0.,  0.,  0.,  0.,  0.,\n",
       "         0.],\n",
       "       [ 0.,  0.,  0.,  0.,  0.,  0.,  0.,  0.,  0.,  0.,  0.,  0.,  0.,\n",
       "         0.],\n",
       "       [ 0.,  0.,  0.,  0.,  0.,  0.,  0.,  0.,  0.,  0.,  0.,  0.,  0.,\n",
       "         0.],\n",
       "       [ 0.,  0.,  0.,  0.,  0.,  0.,  0.,  0.,  0.,  0.,  0.,  0.,  0.,\n",
       "         0.],\n",
       "       [ 0.,  0.,  0.,  0.,  0.,  0.,  0.,  0.,  0.,  0.,  0.,  0.,  0.,\n",
       "         0.]])"
      ]
     },
     "execution_count": 217,
     "metadata": {},
     "output_type": "execute_result"
    }
   ],
   "source": [
    "grid = np.zeros((14,14))\n",
    "grid[0][0:4] = -1\n",
    "grid[1][4:11] = 8\n",
    "grid[2][4:11] = 7\n",
    "grid[6][3:11] = 3\n",
    "grid [7][5:7] = -1\n",
    "grid"
   ]
  },
  {
   "cell_type": "code",
   "execution_count": 218,
   "metadata": {},
   "outputs": [
    {
     "data": {
      "text/plain": [
       "0.0"
      ]
     },
     "execution_count": 218,
     "metadata": {},
     "output_type": "execute_result"
    }
   ],
   "source": [
    "def employeeview (empID):\n",
    "   return grid[empID]\n",
    "def dayview (dayID):\n",
    "   d = grid.transpose()\n",
    "   return d[dayID]\n",
    "dayview(7)[8]"
   ]
  },
  {
   "cell_type": "code",
   "execution_count": 219,
   "metadata": {},
   "outputs": [
    {
     "data": {
      "text/plain": [
       "True"
      ]
     },
     "execution_count": 219,
     "metadata": {},
     "output_type": "execute_result"
    }
   ],
   "source": [
    "def week1count (e):\n",
    "   count = 0\n",
    "   emp1w = grid[e][0:7]\n",
    "   for x in emp1w:\n",
    "      if x != 0:\n",
    "         count += 1\n",
    "   return count\n",
    "def week2count (e):\n",
    "   count = 0\n",
    "   emp1w = grid[e][7:14]\n",
    "   for x in emp1w:\n",
    "      if x != 0:\n",
    "         count += 1\n",
    "   return count\n",
    "def checkweek (e):\n",
    "   if week1count(e) < 5 and week2count(e) < 5:\n",
    "      return True\n",
    "   return False\n",
    "checkweek(1)\n",
    "    "
   ]
  },
  {
   "cell_type": "code",
   "execution_count": 220,
   "metadata": {},
   "outputs": [],
   "source": [
    "def countEmpShifts (empID):\n",
    "   view = employeeview(empID)\n",
    "   count = 0\n",
    "   for x in view:\n",
    "      if x > 0 or x == -1:\n",
    "         count += 1\n",
    "   return count"
   ]
  },
  {
   "cell_type": "code",
   "execution_count": 221,
   "metadata": {},
   "outputs": [
    {
     "data": {
      "text/plain": [
       "[4, 7, 7, 0, 0, 0, 8, 2, 0, 0, 0, 0, 0, 0]"
      ]
     },
     "execution_count": 221,
     "metadata": {},
     "output_type": "execute_result"
    }
   ],
   "source": [
    "def AllEmpCount ():\n",
    "   callEmpCount = []\n",
    "   for x in range(14):\n",
    "      c = countEmpShifts(x)\n",
    "      callEmpCount.append(c)\n",
    "   return callEmpCount\n",
    "AllEmpCount()"
   ]
  },
  {
   "cell_type": "code",
   "execution_count": 222,
   "metadata": {},
   "outputs": [],
   "source": [
    "empFTE = [7,7,8,7,8,8,8,7,8,8,5,5,8,8]\n",
    "\n",
    "def notUnderFTE (e):\n",
    "   if AllEmpCount()[e] < empFTE[e]:\n",
    "      return True\n",
    "   # for x in range(len(s)):\n",
    "   #    if s[x] <= empFTE[x]:\n",
    "   #       return True\n",
    "   return False"
   ]
  },
  {
   "cell_type": "code",
   "execution_count": 223,
   "metadata": {},
   "outputs": [
    {
     "data": {
      "text/plain": [
       "True"
      ]
     },
     "execution_count": 223,
     "metadata": {},
     "output_type": "execute_result"
    }
   ],
   "source": [
    "notUnderFTE(2)"
   ]
  },
  {
   "cell_type": "code",
   "execution_count": 224,
   "metadata": {},
   "outputs": [],
   "source": [
    "trainedfor = [[0,1,2,3,4,5,6,7,8], \n",
    "              [0,1,2,3,4,5,6,7,8],\n",
    "              [5,6,7,8],\n",
    "              [5,6,7,8],\n",
    "              [3,5,8],\n",
    "              [0,1,2,3,4,5,6,7,8],\n",
    "              [3],\n",
    "              [0,1,2,4,5,6,7,8],\n",
    "              [1,2],\n",
    "              [0,1,2,3,4,5,6,7,8],\n",
    "              [0,1,2,3,4,5,6,7,8],\n",
    "              [0,1,2,3,4,5,6,7,8],\n",
    "              [0,1,2,3,4,5,6,7,8],\n",
    "              [0,1,2,3,4,5,6,7,8]]"
   ]
  },
  {
   "cell_type": "code",
   "execution_count": 225,
   "metadata": {},
   "outputs": [
    {
     "data": {
      "text/plain": [
       "array([[0., 0., 0., 0., 0., 0., 0., 0., 0., 0., 0., 0., 0., 0.]])"
      ]
     },
     "execution_count": 225,
     "metadata": {},
     "output_type": "execute_result"
    }
   ],
   "source": [
    "grid[[5]]"
   ]
  },
  {
   "cell_type": "code",
   "execution_count": 226,
   "metadata": {},
   "outputs": [
    {
     "name": "stdout",
     "output_type": "stream",
     "text": [
      "True\n"
     ]
    }
   ],
   "source": [
    "def isTrainedFor ():\n",
    "   val = []\n",
    "   celllist = []\n",
    "   for e in range(9):\n",
    "      for x in employeeview(e):\n",
    "         if x > 0:\n",
    "            if x in trainedfor[e]:\n",
    "               val.append(\"T\")\n",
    "            else:\n",
    "               cell = f'emp={e},s={x}'\n",
    "               celllist.append(cell)\n",
    "               val.append(\"F\")\n",
    "         if x == 0:\n",
    "            val.append(\"T\")\n",
    "   if val.count('F') == 0:\n",
    "      return True\n",
    "   else:\n",
    "      return False, celllist\n",
    "print(isTrainedFor())"
   ]
  },
  {
   "cell_type": "code",
   "execution_count": 227,
   "metadata": {},
   "outputs": [],
   "source": [
    "def emptrained (e,s):\n",
    "   if s in trainedfor[e]:\n",
    "      return True\n",
    "   else:\n",
    "      return False"
   ]
  },
  {
   "cell_type": "code",
   "execution_count": 228,
   "metadata": {},
   "outputs": [],
   "source": [
    "def countDayShifts (dayID):\n",
    "   view = dayview(dayID)\n",
    "   count = 0\n",
    "   for x in view:\n",
    "      if x > 0:\n",
    "         count += 1\n",
    "   return count"
   ]
  },
  {
   "cell_type": "code",
   "execution_count": 229,
   "metadata": {},
   "outputs": [],
   "source": [
    "def cellswithShifts():\n",
    "   count = 0\n",
    "   for x in grid:\n",
    "      for y in x:\n",
    "         if y != 0:\n",
    "            count += 1\n",
    "   return count"
   ]
  },
  {
   "cell_type": "code",
   "execution_count": 230,
   "metadata": {},
   "outputs": [],
   "source": [
    "def shiftnotonday (d,s):\n",
    "   if s in dayview(d):\n",
    "      return False\n",
    "   return True"
   ]
  },
  {
   "cell_type": "code",
   "execution_count": 231,
   "metadata": {},
   "outputs": [],
   "source": [
    "def noturnaround(e,d,s):\n",
    "   if s>5 and d !=13:\n",
    "      if grid[e][d+1] != 0:\n",
    "         if grid[e][d+1] < 5:\n",
    "            return False\n",
    "   if s<4 and d !=0:\n",
    "      if grid[e][d-1] !=0:\n",
    "         if grid[e][d-1] > 5:\n",
    "            return False\n",
    "   return True"
   ]
  },
  {
   "cell_type": "code",
   "execution_count": 232,
   "metadata": {},
   "outputs": [],
   "source": [
    "def solveCell (d,e,s):\n",
    "   x = emptrained(e,s)\n",
    "   y = notUnderFTE(e)\n",
    "   z = shiftnotonday(d,s)\n",
    "   m = checkweek(e)\n",
    "   n = noturnaround(e,d,s)\n",
    "   if x == True:\n",
    "      if y == True:\n",
    "         if z == True:\n",
    "            if m == True:\n",
    "               if n == True:\n",
    "                  grid[e][d]=s\n",
    "   return False"
   ]
  },
  {
   "cell_type": "code",
   "execution_count": 233,
   "metadata": {},
   "outputs": [
    {
     "name": "stdout",
     "output_type": "stream",
     "text": [
      "[7, 7, 8, 7, 8, 7, 8, 7, 6, 8, 5, 5, 8, 8] 99\n",
      "[[-1. -1. -1. -1.  0.  0.  0.  0.  6.  0.  0.  7.  0.  6.]\n",
      " [ 0.  0.  0.  0.  8.  8.  8.  8.  8.  8.  8.  0.  0.  0.]\n",
      " [ 0.  7.  0.  0.  7.  7.  7.  7.  7.  7.  7.  0.  0.  0.]\n",
      " [ 6.  0.  5.  0.  6.  0.  0.  6.  0.  0.  5.  6.  7.  0.]\n",
      " [ 8.  0.  8.  0.  0.  5.  5.  5.  0.  5.  0.  5.  8.  0.]\n",
      " [ 3.  4.  4.  7.  5.  0.  0.  0.  0.  0.  0.  3.  0.  7.]\n",
      " [ 0.  0.  0.  3.  3.  3.  3.  3.  3.  3.  3.  0.  0.  0.]\n",
      " [ 5.  5.  0.  0.  0. -1. -1.  0.  5.  0.  0.  2.  1.  0.]\n",
      " [ 2.  0.  0.  1.  2.  1.  0.  0.  0.  0.  1.  1.  0.  0.]\n",
      " [ 0.  2.  3.  0.  4.  4.  0.  0.  0.  2.  2.  0.  3.  1.]\n",
      " [ 4.  0.  2.  8.  0.  0.  0.  0.  0.  4.  0.  8.  0.  0.]\n",
      " [ 0.  1.  0.  5.  0.  0.  0.  0.  4.  0.  0.  0.  2.  2.]\n",
      " [ 7.  0.  1.  2.  0.  0.  2.  2.  1.  0.  0.  0.  5.  8.]\n",
      " [ 0.  8.  6.  0.  1.  0.  1.  1.  2.  1.  0.  0.  0.  5.]]\n"
     ]
    }
   ],
   "source": [
    "x = 0\n",
    "while x < 20000:\n",
    "   d =np.random.randint(0,14)\n",
    "   e = np.random.randint(0,14)\n",
    "   s = np.random.randint(0,9)\n",
    "   if grid[e][d] == 0 and notUnderFTE(e) == True and noturnaround(e,d,s) == True:\n",
    "      #print (grid[e][d],e,d,s,shiftnotonday(d,s),notUnderFTE(e))\n",
    "      solveCell(d,e,s)\n",
    "      x +=1\n",
    "   else:\n",
    "      x +=1\n",
    "print(AllEmpCount(),cellswithShifts())\n",
    "print(grid)"
   ]
  },
  {
   "cell_type": "code",
   "execution_count": 234,
   "metadata": {},
   "outputs": [],
   "source": [
    "for x in grid.transpose():\n",
    "   y = np.setxor1d(range(9),x)\n",
    "   z = np.intersect1d(y,range(9))\n",
    "   z\n"
   ]
  },
  {
   "cell_type": "code",
   "execution_count": 235,
   "metadata": {},
   "outputs": [
    {
     "name": "stdout",
     "output_type": "stream",
     "text": [
      "NCMC CPHT SCHEDULE | 2 WEEK\n",
      "------------------------------------------------------------\n",
      "ptoptoptopto.  .  .  .  EP .  .  3  .  EP | EMPLOYEE_NAME\n",
      ".  .  .  .  N  N  N  N  N  N  N  .  .  .  | EMPLOYEE_NAME\n",
      ".  3  .  .  3  3  3  3  3  3  3  .  .  .  | EMPLOYEE_NAME\n",
      "EP .  EI .  EP .  .  EP .  .  EI EP 3  .  | EMPLOYEE_NAME\n",
      "N  .  N  .  .  EI EI EI .  EI .  EI N  .  | EMPLOYEE_NAME\n",
      "7P S  S  3  EI .  .  .  .  .  .  7P .  3  | EMPLOYEE_NAME\n",
      ".  .  .  7P 7P 7P 7P 7P 7P 7P 7P .  .  .  | EMPLOYEE_NAME\n",
      "EI EI .  .  .  ptopto.  EI .  .  7C MI .  | EMPLOYEE_NAME\n",
      "7C .  .  MI 7C MI .  .  .  .  MI MI .  .  | EMPLOYEE_NAME\n",
      ".  7C 7P .  S  S  .  .  .  7C 7C .  7P MI | EMPLOYEE_NAME\n",
      "S  .  7C N  .  .  .  .  .  S  .  N  .  .  | EMPLOYEE_NAME\n",
      ".  MI .  EI .  .  .  .  S  .  .  .  7C 7C | EMPLOYEE_NAME\n",
      "3  .  MI 7C .  .  7C 7C MI .  .  .  EI N  | EMPLOYEE_NAME\n",
      ".  N  EP .  MI .  MI MI 7C MI .  .  .  EI | EMPLOYEE_NAME\n",
      "-----------------------------------------------------------------\n",
      "99\n"
     ]
    }
   ],
   "source": [
    "print(\"NCMC CPHT SCHEDULE | 2 WEEK\")\n",
    "print(\"-\"*60)\n",
    "new = \"\"\n",
    "for i in range(len(grid)):\n",
    "   myrow = \"\"\n",
    "   for x in grid[i]:\n",
    "      if x == 8:\n",
    "         myrow += \"N  \"\n",
    "      if x == 7:\n",
    "         myrow += \"3  \"\n",
    "      if x== 6:\n",
    "         myrow += \"EP \"\n",
    "      if x == 5:\n",
    "         myrow += \"EI \"\n",
    "      if x == 4:\n",
    "         myrow += \"S  \"\n",
    "      if x == 3:\n",
    "         myrow += \"7P \"\n",
    "      if x == 2:\n",
    "         myrow += \"7C \"\n",
    "      if x == 1:\n",
    "         myrow += \"MI \"\n",
    "      if x == 0:\n",
    "         myrow += \".  \"\n",
    "      if x == -1:\n",
    "         myrow += \"pto\"\n",
    "   myrow += \"| EMPLOYEE_NAME\"\n",
    "   new += myrow + \"\\n\"\n",
    "new += \"-\"*65\n",
    "\n",
    "print(new)\n",
    "print(cellswithShifts())\n",
    "\n",
    "   "
   ]
  }
 ],
 "metadata": {
  "interpreter": {
   "hash": "8fd295a7007e560b192f709854f66b36915a5382ae77c4fca9f0e6f21003d31e"
  },
  "kernelspec": {
   "display_name": "Python 3.9.5 64-bit ('base': conda)",
   "language": "python",
   "name": "python3"
  },
  "language_info": {
   "codemirror_mode": {
    "name": "ipython",
    "version": 3
   },
   "file_extension": ".py",
   "mimetype": "text/x-python",
   "name": "python",
   "nbconvert_exporter": "python",
   "pygments_lexer": "ipython3",
   "version": "3.9.5"
  },
  "orig_nbformat": 4
 },
 "nbformat": 4,
 "nbformat_minor": 2
}
