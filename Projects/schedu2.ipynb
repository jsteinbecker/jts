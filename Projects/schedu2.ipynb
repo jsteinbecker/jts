{
 "cells": [
  {
   "cell_type": "code",
   "execution_count": 2,
   "metadata": {},
   "outputs": [],
   "source": [
    "import pandas as pd\n",
    "import numpy as np\n",
    "import random as rd"
   ]
  },
  {
   "cell_type": "code",
   "execution_count": 50,
   "metadata": {},
   "outputs": [
    {
     "data": {
      "text/plain": [
       "21"
      ]
     },
     "execution_count": 50,
     "metadata": {},
     "output_type": "execute_result"
    }
   ],
   "source": [
    "df = pd.read_csv('/Users/joshsteinbecker/jts_project/Projects/schedexample.csv')\n",
    "grid= np.array(df)\n",
    "\n",
    "tr = [[8],\n",
    "[8],\n",
    "[7],\n",
    "[7],\n",
    "[5,6,7,8],\n",
    "[6,7,8],\n",
    "[0,1,2,3,4,5,6,7,8],\n",
    "[0,1,2,3,4,5,6,7,8],\n",
    "[0,1,2,3,4,5,6,7,8],\n",
    "[0,1,2,3,4,5,6,7,8],\n",
    "[0,1,2,3,4,5,6,7,8]]\n",
    "\n",
    "fte = [7,7,8,8,8,8,8,8,8,8,5]\n",
    "\n",
    "grid[1][3] = 1\n",
    "empN, dayN =grid.shape"
   ]
  },
  {
   "cell_type": "code",
   "execution_count": 34,
   "metadata": {},
   "outputs": [
    {
     "data": {
      "text/plain": [
       "True"
      ]
     },
     "execution_count": 34,
     "metadata": {},
     "output_type": "execute_result"
    }
   ],
   "source": [
    "def previousday (e,d):\n",
    "   return grid[e][d-1]\n",
    "def checkTurnA (e,d,s):\n",
    "   if 0 < s < 5:\n",
    "      if previousday(e,d) > 4:\n",
    "         return False\n",
    "   return True"
   ]
  },
  {
   "cell_type": "code",
   "execution_count": 39,
   "metadata": {},
   "outputs": [
    {
     "data": {
      "text/plain": [
       "True"
      ]
     },
     "execution_count": 39,
     "metadata": {},
     "output_type": "execute_result"
    }
   ],
   "source": [
    "def checktrain(e,s):\n",
    "   if s in tr[e]:\n",
    "      return True\n",
    "   return False"
   ]
  },
  {
   "cell_type": "code",
   "execution_count": 47,
   "metadata": {},
   "outputs": [
    {
     "data": {
      "text/plain": [
       "True"
      ]
     },
     "execution_count": 47,
     "metadata": {},
     "output_type": "execute_result"
    }
   ],
   "source": [
    "def checkfte (e):\n",
    "   count = 0\n",
    "   for x  in grid[e]:\n",
    "      if x >= 1:\n",
    "         count += 1\n",
    "   if count >= fte[e]:\n",
    "      return False\n",
    "   return True\n",
    "checkfte(4)"
   ]
  },
  {
   "cell_type": "code",
   "execution_count": 53,
   "metadata": {},
   "outputs": [],
   "source": [
    "def findopen ():\n",
    "   openlist = []\n",
    "   for x in range (empN):\n",
    "      for y in range (dayN):\n",
    "         if grid[x][y] == 0:\n",
    "            openlist.append ((x,y))\n",
    "   return openlist"
   ]
  },
  {
   "cell_type": "code",
   "execution_count": 63,
   "metadata": {},
   "outputs": [],
   "source": [
    "f = findopen()"
   ]
  },
  {
   "cell_type": "code",
   "execution_count": 80,
   "metadata": {},
   "outputs": [
    {
     "data": {
      "text/plain": [
       "False"
      ]
     },
     "execution_count": 80,
     "metadata": {},
     "output_type": "execute_result"
    }
   ],
   "source": [
    "def solve (openlist,q):\n",
    "   c = 0\n",
    "   while c < q:\n",
    "      r = np.random.randint(0,len(openlist)-1)\n",
    "      e, d = openlist[r]\n",
    "      s = np.random.randint(0,9)\n",
    "      if checkfte(e) == True:\n",
    "         #print(\"a\")\n",
    "         if checkTurnA(e,d,s) == True:\n",
    "            #print(\"b\")\n",
    "            if checktrain(e,s) == True:\n",
    "               grid[e][d] = s\n",
    "               c += 1\n",
    "               return True\n",
    "      c+=1         \n",
    "      return False\n",
    "solve(f, 1000)"
   ]
  },
  {
   "cell_type": "code",
   "execution_count": 81,
   "metadata": {},
   "outputs": [
    {
     "data": {
      "text/plain": [
       "True"
      ]
     },
     "execution_count": 81,
     "metadata": {},
     "output_type": "execute_result"
    }
   ],
   "source": [
    "grid\n",
    "checktrain(4,7)"
   ]
  },
  {
   "cell_type": "code",
   "execution_count": 65,
   "metadata": {},
   "outputs": [
    {
     "data": {
      "text/plain": [
       "array([[0, 0, 0, 8, 8, 8, 8, 8, 8, 8, 0, 0, 0, 0, 0, 0, 0, 8, 8, 8, 8],\n",
       "       [8, 8, 8, 1, 0, 0, 0, 0, 0, 0, 8, 8, 8, 8, 8, 8, 0, 0, 0, 0, 0],\n",
       "       [7, 7, 7, 0, 0, 0, 0, 0, 0, 7, 7, 7, 7, 7, 7, 7, 7, 0, 0, 0, 0],\n",
       "       [0, 0, 0, 0, 0, 0, 0, 0, 0, 0, 0, 0, 0, 0, 0, 0, 0, 0, 0, 0, 0],\n",
       "       [0, 0, 0, 0, 0, 0, 0, 0, 0, 0, 0, 0, 0, 0, 0, 0, 0, 0, 0, 0, 0],\n",
       "       [0, 0, 0, 0, 0, 0, 0, 0, 0, 0, 0, 0, 0, 0, 0, 0, 0, 0, 0, 0, 0],\n",
       "       [0, 0, 0, 0, 0, 0, 0, 0, 0, 0, 0, 0, 0, 0, 0, 0, 0, 0, 0, 0, 0],\n",
       "       [0, 0, 0, 0, 0, 0, 0, 0, 0, 0, 0, 0, 0, 0, 0, 0, 0, 0, 0, 0, 0],\n",
       "       [0, 0, 0, 0, 0, 0, 0, 0, 0, 0, 0, 0, 0, 0, 0, 0, 0, 0, 0, 0, 0],\n",
       "       [0, 0, 0, 0, 0, 0, 0, 0, 0, 0, 0, 0, 0, 0, 0, 0, 0, 0, 0, 0, 0]])"
      ]
     },
     "execution_count": 65,
     "metadata": {},
     "output_type": "execute_result"
    }
   ],
   "source": [
    "solve(f,100)\n",
    "grid"
   ]
  },
  {
   "cell_type": "code",
   "execution_count": null,
   "metadata": {},
   "outputs": [],
   "source": []
  }
 ],
 "metadata": {
  "interpreter": {
   "hash": "8fd295a7007e560b192f709854f66b36915a5382ae77c4fca9f0e6f21003d31e"
  },
  "kernelspec": {
   "display_name": "Python 3.9.5 64-bit ('base': conda)",
   "language": "python",
   "name": "python3"
  },
  "language_info": {
   "codemirror_mode": {
    "name": "ipython",
    "version": 3
   },
   "file_extension": ".py",
   "mimetype": "text/x-python",
   "name": "python",
   "nbconvert_exporter": "python",
   "pygments_lexer": "ipython3",
   "version": "3.9.5"
  },
  "orig_nbformat": 4
 },
 "nbformat": 4,
 "nbformat_minor": 2
}
