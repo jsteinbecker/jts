{
 "cells": [
  {
   "cell_type": "code",
   "execution_count": 1,
   "metadata": {},
   "outputs": [],
   "source": [
    "Comps = (\n",
    "      \"Hand Hygiene\",\n",
    "      \"Don Gown, Gloves\",\n",
    "      \"Fingertip Sampling (Initial)\"\n",
    ")"
   ]
  },
  {
   "cell_type": "code",
   "execution_count": 11,
   "metadata": {},
   "outputs": [],
   "source": [
    "def listChrCount (Comps):\n",
    "      Complen = []\n",
    "      for com in Comps:\n",
    "            l = len(com)\n",
    "            c = com + \" (\" + str(l) +\")\"\n",
    "            Complen.append(c)\n",
    "      lCCount = Complen\n",
    "      return lCCount"
   ]
  },
  {
   "cell_type": "code",
   "execution_count": 12,
   "metadata": {},
   "outputs": [
    {
     "data": {
      "text/plain": [
       "['Hand Hygiene (12)',\n",
       " 'Don Gown, Gloves (16)',\n",
       " 'Fingertip Sampling (Initial) (28)']"
      ]
     },
     "execution_count": 12,
     "metadata": {},
     "output_type": "execute_result"
    }
   ],
   "source": [
    "listChrCount (Comps)"
   ]
  }
 ],
 "metadata": {
  "interpreter": {
   "hash": "8fd295a7007e560b192f709854f66b36915a5382ae77c4fca9f0e6f21003d31e"
  },
  "kernelspec": {
   "display_name": "Python 3.9.5 64-bit ('base': conda)",
   "language": "python",
   "name": "python3"
  },
  "language_info": {
   "codemirror_mode": {
    "name": "ipython",
    "version": 3
   },
   "file_extension": ".py",
   "mimetype": "text/x-python",
   "name": "python",
   "nbconvert_exporter": "python",
   "pygments_lexer": "ipython3",
   "version": "3.9.5"
  },
  "orig_nbformat": 4
 },
 "nbformat": 4,
 "nbformat_minor": 2
}
