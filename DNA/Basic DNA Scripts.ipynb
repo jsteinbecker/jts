{
 "cells": [
  {
   "cell_type": "markdown",
   "metadata": {},
   "source": [
    "### DNA Reversal"
   ]
  },
  {
   "cell_type": "code",
   "execution_count": 6,
   "metadata": {},
   "outputs": [
    {
     "data": {
      "text/plain": [
       "12"
      ]
     },
     "execution_count": 6,
     "metadata": {},
     "output_type": "execute_result"
    }
   ],
   "source": [
    "dna = 'atcgttaacgat'\n",
    "len(dna)"
   ]
  },
  {
   "cell_type": "code",
   "execution_count": 4,
   "metadata": {},
   "outputs": [],
   "source": [
    "def reverse_dna (dna):\n",
    "      l = []\n",
    "      mydna = dna\n",
    "      for n in mydna:\n",
    "            l.append(n)\n",
    "      rev = l[::-1]\n",
    "      revstr = \"\".join(rev)\n",
    "      print(revstr)"
   ]
  },
  {
   "cell_type": "code",
   "execution_count": 5,
   "metadata": {},
   "outputs": [
    {
     "name": "stdout",
     "output_type": "stream",
     "text": [
      "tagcaattgcta\n"
     ]
    }
   ],
   "source": [
    "reverse_dna(dna)"
   ]
  },
  {
   "cell_type": "markdown",
   "metadata": {},
   "source": [
    "### DNA Complement"
   ]
  },
  {
   "cell_type": "markdown",
   "metadata": {},
   "source": [
    "### GC Content"
   ]
  },
  {
   "cell_type": "code",
   "execution_count": 49,
   "metadata": {},
   "outputs": [],
   "source": [
    "def gc_content (dna):\n",
    "      mydna = dna.lower()\n",
    "      gc = mydna.count(\"g\") + mydna.count(\"c\")\n",
    "      t = len(mydna)\n",
    "      n = mydna.count(\"n\")\n",
    "      if mydna.rfind(\"n\") == -1:\n",
    "            perc = gc / len(mydna) * 100\n",
    "            print(f'{mydna}\\nGC#: {gc}/{t} \\n     {perc}%\\n ---------------------')\n",
    "      else:\n",
    "            gcmin = gc / len(mydna) * 100\n",
    "            gcn = gc + n\n",
    "            gcmax = gcn / len(mydna) * 100\n",
    "            print(f'{mydna}\\nGC#: {gc}-{gcn}/{t} \\n     {gcmin}% - {gcmax}%\\n ---------------------')"
   ]
  },
  {
   "cell_type": "code",
   "execution_count": 50,
   "metadata": {},
   "outputs": [
    {
     "name": "stdout",
     "output_type": "stream",
     "text": [
      "gcgctccacagcttag\n",
      "GC#: 10/16 \n",
      "     62.5%\n",
      " ---------------------\n",
      "atgcgcatttnnngctta\n",
      "GC#: 6-9/18 \n",
      "     33.33333333333333% - 50.0%\n",
      " ---------------------\n"
     ]
    }
   ],
   "source": [
    "gc_content(\"gcgctCcacagcttag\")\n",
    "gc_content(\"atgcgcatttNNNgctta\")"
   ]
  }
 ],
 "metadata": {
  "interpreter": {
   "hash": "8fd295a7007e560b192f709854f66b36915a5382ae77c4fca9f0e6f21003d31e"
  },
  "kernelspec": {
   "display_name": "Python 3.9.5 64-bit ('base': conda)",
   "language": "python",
   "name": "python3"
  },
  "language_info": {
   "codemirror_mode": {
    "name": "ipython",
    "version": 3
   },
   "file_extension": ".py",
   "mimetype": "text/x-python",
   "name": "python",
   "nbconvert_exporter": "python",
   "pygments_lexer": "ipython3",
   "version": "3.9.5"
  },
  "orig_nbformat": 4
 },
 "nbformat": 4,
 "nbformat_minor": 2
}
