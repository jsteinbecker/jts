{
 "cells": [
  {
   "cell_type": "code",
   "execution_count": 1,
   "metadata": {},
   "outputs": [],
   "source": [
    "import mydna as d"
   ]
  },
  {
   "cell_type": "code",
   "execution_count": 2,
   "metadata": {},
   "outputs": [
    {
     "name": "stdout",
     "output_type": "stream",
     "text": [
      "atatagc\n",
      "GC#: 2/7 \n",
      "     28.57142857142857%\n",
      " ---------------------\n",
      "\n",
      "    0.0% - 100.0%\n",
      " ---------------------\n",
      "\n",
      "acgctgaaatggtgcgcgcgccgcgccgc\n",
      "GC#: 22/29 \n",
      "     75.86206896551724%\n",
      " ---------------------\n",
      "\n",
      "    50.0% - 75.0%\n",
      " ---------------------\n",
      "\n"
     ]
    }
   ],
   "source": [
    "s = [\"atatagc\",\"nnnnn\",\"acgctgaaatggtgcgcgcgccgcgccgc\",\"gcan\"]\n",
    "for x in s:\n",
    "      a = d.gc_content(x)\n",
    "      a"
   ]
  },
  {
   "cell_type": "code",
   "execution_count": 3,
   "metadata": {},
   "outputs": [
    {
     "name": "stdout",
     "output_type": "stream",
     "text": [
      "SEQUENCE: aacgagctagcgatcgcgcgcgcgcgcgcccgcgcgcgcgcccccc\n",
      "   LENGTH: 46\n",
      "   GC%: 0.848\n"
     ]
    }
   ],
   "source": [
    "b = d.dnaSEQ(\"aacgagctagcgatcgcgcgcgcgcgcgcccgcgcgcgcgcccccc\")\n",
    "b.about()\n",
    "s[0]"
   ]
  },
  {
   "cell_type": "code",
   "execution_count": null,
   "metadata": {},
   "outputs": [],
   "source": []
  }
 ],
 "metadata": {
  "interpreter": {
   "hash": "8fd295a7007e560b192f709854f66b36915a5382ae77c4fca9f0e6f21003d31e"
  },
  "kernelspec": {
   "display_name": "Python 3.9.5 64-bit ('base': conda)",
   "language": "python",
   "name": "python3"
  },
  "language_info": {
   "codemirror_mode": {
    "name": "ipython",
    "version": 3
   },
   "file_extension": ".py",
   "mimetype": "text/x-python",
   "name": "python",
   "nbconvert_exporter": "python",
   "pygments_lexer": "ipython3",
   "version": "3.9.5"
  },
  "orig_nbformat": 4
 },
 "nbformat": 4,
 "nbformat_minor": 2
}
