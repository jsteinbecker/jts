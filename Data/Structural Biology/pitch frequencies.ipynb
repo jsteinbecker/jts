{
 "cells": [
  {
   "cell_type": "markdown",
   "metadata": {},
   "source": [
    "# PITCH FREQUENCIES"
   ]
  },
  {
   "cell_type": "code",
   "execution_count": 1,
   "metadata": {},
   "outputs": [],
   "source": [
    "import numpy as np"
   ]
  },
  {
   "cell_type": "code",
   "execution_count": 3,
   "metadata": {},
   "outputs": [
    {
     "data": {
      "text/plain": [
       "array([440., 480., 520., 560., 600., 640., 680., 720., 760., 800., 840.,\n",
       "       880.])"
      ]
     },
     "execution_count": 3,
     "metadata": {},
     "output_type": "execute_result"
    }
   ],
   "source": [
    "scale_a = np.linspace(440,880,12)\n",
    "scale_a"
   ]
  },
  {
   "cell_type": "code",
   "execution_count": 6,
   "metadata": {},
   "outputs": [
    {
     "data": {
      "text/plain": [
       "[(440.0, 'A'),\n",
       " (480.0, 'Bb'),\n",
       " (520.0, 'B'),\n",
       " (560.0, 'C'),\n",
       " (600.0, 'C#'),\n",
       " (640.0, 'D'),\n",
       " (680.0, 'Eb'),\n",
       " (720.0, 'F'),\n",
       " (760.0, 'F#'),\n",
       " (800.0, 'G'),\n",
       " (840.0, 'G#'),\n",
       " (880.0, 'A')]"
      ]
     },
     "execution_count": 6,
     "metadata": {},
     "output_type": "execute_result"
    }
   ],
   "source": [
    "notes = \"A Bb B C C# D Eb F F# G G# A\".split(\" \")\n",
    "setA = []\n",
    "for x in range(12):\n",
    "   y = (scale_a[x], notes[x])\n",
    "   setA.append(y)\n",
    "setA"
   ]
  }
 ],
 "metadata": {
  "interpreter": {
   "hash": "8fd295a7007e560b192f709854f66b36915a5382ae77c4fca9f0e6f21003d31e"
  },
  "kernelspec": {
   "display_name": "Python 3.9.5 64-bit ('base': conda)",
   "language": "python",
   "name": "python3"
  },
  "language_info": {
   "codemirror_mode": {
    "name": "ipython",
    "version": 3
   },
   "file_extension": ".py",
   "mimetype": "text/x-python",
   "name": "python",
   "nbconvert_exporter": "python",
   "pygments_lexer": "ipython3",
   "version": "3.9.5"
  },
  "orig_nbformat": 4
 },
 "nbformat": 4,
 "nbformat_minor": 2
}
