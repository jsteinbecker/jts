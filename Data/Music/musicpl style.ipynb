{
 "cells": [
  {
   "cell_type": "code",
   "execution_count": 2,
   "metadata": {},
   "outputs": [],
   "source": [
    "import pandas as pd\n",
    "import re"
   ]
  },
  {
   "cell_type": "code",
   "execution_count": 33,
   "metadata": {},
   "outputs": [
    {
     "data": {
      "text/plain": [
       "['February 17, 2022']"
      ]
     },
     "execution_count": 33,
     "metadata": {},
     "output_type": "execute_result"
    }
   ],
   "source": [
    "text = \"\"\"February 17, 2022\n",
    "ITEM TIME   3:31\n",
    "Aida -OB 1:03 Gypsy from “Lord of the Dance”  -Ob (ardian) 0:27 String Quartet No. 1 -CO (Btvn) 0:12 II. The Kalendar Prince 0:10 Symphony No. 5 -VN 0:10 At The Summit 0:08 Alexander Nevsky 0:07 Carmen Fantasy 0:07 Aunt Marge’s Waltz 0:06 Deleted Items 0:05 1812 Festival Overture -CO 0:05 Don Juan -CL 0:04 Piano Quartet in A minor -CO 0:03 Symphony No. 9 -EC 0:03 Clarinet Concerto No. 2 -CL 0:02 Alexander Nevsky 0:02 Symphony No. 10 -OB 0:02 Symphony No. 2 -HN 0:02 Symphony No. 8 -CL 0:02 Alto Sax I - Whiplash 0:02 Symphony No. 1 ‘Titan’ 0:02\"\"\"\n",
    "\n",
    "\"\"\"DATE EXTRACTION\"\"\"\n",
    "d = re.findall(\"\\w* \\d*, \\d{4}\",text)\n",
    "d"
   ]
  },
  {
   "cell_type": "code",
   "execution_count": 43,
   "metadata": {},
   "outputs": [
    {
     "data": {
      "text/plain": [
       "['3:31',\n",
       " '1:03',\n",
       " '0:27',\n",
       " '0:12',\n",
       " '0:10',\n",
       " '0:10',\n",
       " '0:08',\n",
       " '0:07',\n",
       " '0:07',\n",
       " '0:06',\n",
       " '0:05',\n",
       " '0:05',\n",
       " '0:04',\n",
       " '0:03',\n",
       " '0:03',\n",
       " '0:02',\n",
       " '0:02',\n",
       " '0:02',\n",
       " '0:02',\n",
       " '0:02',\n",
       " '0:02',\n",
       " '0:02']"
      ]
     },
     "execution_count": 43,
     "metadata": {},
     "output_type": "execute_result"
    }
   ],
   "source": [
    "ti = re.findall(\"\\d*:\\d*\",text)\n",
    "ti"
   ]
  },
  {
   "cell_type": "code",
   "execution_count": 37,
   "metadata": {},
   "outputs": [
    {
     "data": {
      "text/plain": [
       "['February 17, 2022\\nITEM TIME   ',\n",
       " '\\nAida -OB ',\n",
       " ' Gypsy from “Lord of the Dance”  -Ob (ardian) ',\n",
       " ' String Quartet No. 1 -CO (Btvn) ',\n",
       " ' II. The Kalendar Prince ',\n",
       " ' Symphony No. 5 -VN ',\n",
       " ' At The Summit ',\n",
       " ' Alexander Nevsky ',\n",
       " ' Carmen Fantasy ',\n",
       " ' Aunt Marge’s Waltz ',\n",
       " ' Deleted Items ',\n",
       " ' 1812 Festival Overture -CO ',\n",
       " ' Don Juan -CL ',\n",
       " ' Piano Quartet in A minor -CO ',\n",
       " ' Symphony No. 9 -EC ',\n",
       " ' Clarinet Concerto No. 2 -CL ',\n",
       " ' Alexander Nevsky ',\n",
       " ' Symphony No. 10 -OB ',\n",
       " ' Symphony No. 2 -HN ',\n",
       " ' Symphony No. 8 -CL ',\n",
       " ' Alto Sax I - Whiplash ',\n",
       " ' Symphony No. 1 ‘Titan’ ',\n",
       " '']"
      ]
     },
     "execution_count": 37,
     "metadata": {},
     "output_type": "execute_result"
    }
   ],
   "source": [
    "x = re.split(\"\\d*:\\d*\",text)\n",
    "x"
   ]
  },
  {
   "cell_type": "code",
   "execution_count": 18,
   "metadata": {},
   "outputs": [
    {
     "data": {
      "text/plain": [
       "[['3:31', '1:03', '0:27'],\n",
       " ['0:12',\n",
       "  '0:10',\n",
       "  '0:10',\n",
       "  '0:08',\n",
       "  '0:07',\n",
       "  '0:07',\n",
       "  '0:06',\n",
       "  '0:05',\n",
       "  '0:05',\n",
       "  '0:04',\n",
       "  '0:03',\n",
       "  '0:03',\n",
       "  '0:02',\n",
       "  '0:02',\n",
       "  '0:02',\n",
       "  '0:02',\n",
       "  '0:02',\n",
       "  '0:02',\n",
       "  '0:02']]"
      ]
     },
     "execution_count": 18,
     "metadata": {},
     "output_type": "execute_result"
    }
   ],
   "source": [
    "z = [re.findall(\"\\d*:\\d*\",i) for i in x ]\n",
    "z"
   ]
  },
  {
   "cell_type": "code",
   "execution_count": 41,
   "metadata": {},
   "outputs": [
    {
     "data": {
      "text/plain": [
       "[[],\n",
       " [],\n",
       " ['ardian'],\n",
       " ['Btvn'],\n",
       " [],\n",
       " [],\n",
       " [],\n",
       " [],\n",
       " [],\n",
       " [],\n",
       " [],\n",
       " [],\n",
       " [],\n",
       " [],\n",
       " [],\n",
       " [],\n",
       " [],\n",
       " [],\n",
       " [],\n",
       " [],\n",
       " [],\n",
       " [],\n",
       " []]"
      ]
     },
     "execution_count": 41,
     "metadata": {},
     "output_type": "execute_result"
    }
   ],
   "source": [
    "t = [re.findall(\"(?<=\\().*(?=\\))\",i) for i in x ]\n",
    "t\n"
   ]
  },
  {
   "cell_type": "code",
   "execution_count": 61,
   "metadata": {},
   "outputs": [
    {
     "data": {
      "text/plain": [
       "['\\nAida -OB ',\n",
       " ' Gypsy from “Lord of the Dance”  -Ob (ardian) ',\n",
       " ' String Quartet No. 1 -CO (Btvn) ',\n",
       " ' II. The Kalendar Prince ',\n",
       " ' Symphony No. 5 -VN ',\n",
       " ' At The Summit ',\n",
       " ' Alexander Nevsky ',\n",
       " ' Carmen Fantasy ',\n",
       " ' Aunt Marge’s Waltz ',\n",
       " ' Deleted Items ',\n",
       " ' 1812 Festival Overture -CO ',\n",
       " ' Don Juan -CL ',\n",
       " ' Piano Quartet in A minor -CO ',\n",
       " ' Symphony No. 9 -EC ',\n",
       " ' Clarinet Concerto No. 2 -CL ',\n",
       " ' Alexander Nevsky ',\n",
       " ' Symphony No. 10 -OB ',\n",
       " ' Symphony No. 2 -HN ',\n",
       " ' Symphony No. 8 -CL ',\n",
       " ' Alto Sax I - Whiplash ',\n",
       " ' Symphony No. 1 ‘Titan’ ',\n",
       " '']"
      ]
     },
     "execution_count": 61,
     "metadata": {},
     "output_type": "execute_result"
    }
   ],
   "source": [
    "data = x[1:]\n",
    "data"
   ]
  },
  {
   "cell_type": "code",
   "execution_count": 59,
   "metadata": {},
   "outputs": [
    {
     "ename": "ValueError",
     "evalue": "Shape of passed values is (22, 1), indices imply (22, 22)",
     "output_type": "error",
     "traceback": [
      "\u001b[0;31m---------------------------------------------------------------------------\u001b[0m",
      "\u001b[0;31mValueError\u001b[0m                                Traceback (most recent call last)",
      "\u001b[0;32m/var/folders/sz/0lyp_0wx3mgdzpg0t_hg1zh40000gn/T/ipykernel_1006/3589304353.py\u001b[0m in \u001b[0;36m<module>\u001b[0;34m\u001b[0m\n\u001b[0;32m----> 1\u001b[0;31m \u001b[0mdf\u001b[0m \u001b[0;34m=\u001b[0m \u001b[0mpd\u001b[0m\u001b[0;34m.\u001b[0m\u001b[0mDataFrame\u001b[0m\u001b[0;34m(\u001b[0m\u001b[0mdata\u001b[0m\u001b[0;34m,\u001b[0m\u001b[0mti\u001b[0m\u001b[0;34m,\u001b[0m\u001b[0mrange\u001b[0m\u001b[0;34m(\u001b[0m\u001b[0mlen\u001b[0m\u001b[0;34m(\u001b[0m\u001b[0mdata\u001b[0m\u001b[0;34m)\u001b[0m\u001b[0;34m)\u001b[0m\u001b[0;34m)\u001b[0m\u001b[0;34m\u001b[0m\u001b[0;34m\u001b[0m\u001b[0m\n\u001b[0m\u001b[1;32m      2\u001b[0m \u001b[0mdf\u001b[0m\u001b[0;34m\u001b[0m\u001b[0;34m\u001b[0m\u001b[0m\n",
      "\u001b[0;32m~/Library/r-miniconda/lib/python3.9/site-packages/pandas/core/frame.py\u001b[0m in \u001b[0;36m__init__\u001b[0;34m(self, data, index, columns, dtype, copy)\u001b[0m\n\u001b[1;32m    709\u001b[0m                     )\n\u001b[1;32m    710\u001b[0m                 \u001b[0;32melse\u001b[0m\u001b[0;34m:\u001b[0m\u001b[0;34m\u001b[0m\u001b[0;34m\u001b[0m\u001b[0m\n\u001b[0;32m--> 711\u001b[0;31m                     mgr = ndarray_to_mgr(\n\u001b[0m\u001b[1;32m    712\u001b[0m                         \u001b[0mdata\u001b[0m\u001b[0;34m,\u001b[0m\u001b[0;34m\u001b[0m\u001b[0;34m\u001b[0m\u001b[0m\n\u001b[1;32m    713\u001b[0m                         \u001b[0mindex\u001b[0m\u001b[0;34m,\u001b[0m\u001b[0;34m\u001b[0m\u001b[0;34m\u001b[0m\u001b[0m\n",
      "\u001b[0;32m~/Library/r-miniconda/lib/python3.9/site-packages/pandas/core/internals/construction.py\u001b[0m in \u001b[0;36mndarray_to_mgr\u001b[0;34m(values, index, columns, dtype, copy, typ)\u001b[0m\n\u001b[1;32m    322\u001b[0m     )\n\u001b[1;32m    323\u001b[0m \u001b[0;34m\u001b[0m\u001b[0m\n\u001b[0;32m--> 324\u001b[0;31m     \u001b[0m_check_values_indices_shape_match\u001b[0m\u001b[0;34m(\u001b[0m\u001b[0mvalues\u001b[0m\u001b[0;34m,\u001b[0m \u001b[0mindex\u001b[0m\u001b[0;34m,\u001b[0m \u001b[0mcolumns\u001b[0m\u001b[0;34m)\u001b[0m\u001b[0;34m\u001b[0m\u001b[0;34m\u001b[0m\u001b[0m\n\u001b[0m\u001b[1;32m    325\u001b[0m \u001b[0;34m\u001b[0m\u001b[0m\n\u001b[1;32m    326\u001b[0m     \u001b[0;32mif\u001b[0m \u001b[0mtyp\u001b[0m \u001b[0;34m==\u001b[0m \u001b[0;34m\"array\"\u001b[0m\u001b[0;34m:\u001b[0m\u001b[0;34m\u001b[0m\u001b[0;34m\u001b[0m\u001b[0m\n",
      "\u001b[0;32m~/Library/r-miniconda/lib/python3.9/site-packages/pandas/core/internals/construction.py\u001b[0m in \u001b[0;36m_check_values_indices_shape_match\u001b[0;34m(values, index, columns)\u001b[0m\n\u001b[1;32m    391\u001b[0m         \u001b[0mpassed\u001b[0m \u001b[0;34m=\u001b[0m \u001b[0mvalues\u001b[0m\u001b[0;34m.\u001b[0m\u001b[0mshape\u001b[0m\u001b[0;34m\u001b[0m\u001b[0;34m\u001b[0m\u001b[0m\n\u001b[1;32m    392\u001b[0m         \u001b[0mimplied\u001b[0m \u001b[0;34m=\u001b[0m \u001b[0;34m(\u001b[0m\u001b[0mlen\u001b[0m\u001b[0;34m(\u001b[0m\u001b[0mindex\u001b[0m\u001b[0;34m)\u001b[0m\u001b[0;34m,\u001b[0m \u001b[0mlen\u001b[0m\u001b[0;34m(\u001b[0m\u001b[0mcolumns\u001b[0m\u001b[0;34m)\u001b[0m\u001b[0;34m)\u001b[0m\u001b[0;34m\u001b[0m\u001b[0;34m\u001b[0m\u001b[0m\n\u001b[0;32m--> 393\u001b[0;31m         \u001b[0;32mraise\u001b[0m \u001b[0mValueError\u001b[0m\u001b[0;34m(\u001b[0m\u001b[0;34mf\"Shape of passed values is {passed}, indices imply {implied}\"\u001b[0m\u001b[0;34m)\u001b[0m\u001b[0;34m\u001b[0m\u001b[0;34m\u001b[0m\u001b[0m\n\u001b[0m\u001b[1;32m    394\u001b[0m \u001b[0;34m\u001b[0m\u001b[0m\n\u001b[1;32m    395\u001b[0m \u001b[0;34m\u001b[0m\u001b[0m\n",
      "\u001b[0;31mValueError\u001b[0m: Shape of passed values is (22, 1), indices imply (22, 22)"
     ]
    }
   ],
   "source": [
    "df = pd.DataFrame(data,ti,range(len(data)))\n",
    "df"
   ]
  },
  {
   "cell_type": "code",
   "execution_count": null,
   "metadata": {},
   "outputs": [],
   "source": []
  }
 ],
 "metadata": {
  "interpreter": {
   "hash": "8fd295a7007e560b192f709854f66b36915a5382ae77c4fca9f0e6f21003d31e"
  },
  "kernelspec": {
   "display_name": "Python 3.9.5 ('base')",
   "language": "python",
   "name": "python3"
  },
  "language_info": {
   "codemirror_mode": {
    "name": "ipython",
    "version": 3
   },
   "file_extension": ".py",
   "mimetype": "text/x-python",
   "name": "python",
   "nbconvert_exporter": "python",
   "pygments_lexer": "ipython3",
   "version": "3.9.5"
  },
  "orig_nbformat": 4
 },
 "nbformat": 4,
 "nbformat_minor": 2
}
