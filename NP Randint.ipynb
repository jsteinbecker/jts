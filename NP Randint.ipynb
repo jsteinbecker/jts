{
  "cells": [
    {
      "cell_type": "markdown",
      "metadata": {
        "colab_type": "text",
        "id": "view-in-github"
      },
      "source": [
        "<a href=\"https://colab.research.google.com/github/jsteinbecker/jts/blob/main/NP%20Randint.ipynb\" target=\"_parent\"><img src=\"https://colab.research.google.com/assets/colab-badge.svg\" alt=\"Open In Colab\"/></a>"
      ]
    },
    {
      "cell_type": "code",
      "execution_count": 1,
      "metadata": {
        "id": "3SLU-WmlcomR"
      },
      "outputs": [],
      "source": [
        "import numpy as np"
      ]
    },
    {
      "cell_type": "code",
      "execution_count": 2,
      "metadata": {
        "colab": {
          "base_uri": "https://localhost:8080/"
        },
        "id": "r7AWOpR9Eak3",
        "outputId": "5cfa0d9a-f747-43c4-9d64-4d5ea85295b3"
      },
      "outputs": [
        {
          "name": "stdout",
          "output_type": "stream",
          "text": [
            "[106, 86, 113, 14, 157, 134, 14, 26, 88, 214, 209, 29, 130, 93, 20, 218, 77, 151, 28, 7, 49, 28, 120, 126, 67, 125, 99, 165, 105, 23, 29, 80, 43, 190, 82, 18, 191, 106, 209, 144, 30, 178, 15, 143, 197, 35, 139, 118, 46, 203, 106, 169, 120, 65, 34, 220, 60, 15, 75, 123, 182, 112, 150, 186, 214, 30, 150, 208, 165, 6, 75, 200, 80, 60, 67, 196, 202, 223, 64, 46, 40, 61, 151, 90, 17, 20, 131, 43, 182, 157, 26, 86, 214, 14, 104, 180, 145, 104, 133, 182]\n"
          ]
        }
      ],
      "source": [
        "x = [1]*100\n",
        "xl = [i*np.random.randint(1,225) for i in x]\n",
        "print(xl)"
      ]
    },
    {
      "cell_type": "code",
      "execution_count": 3,
      "metadata": {
        "id": "C5wUYH8ZE4C6"
      },
      "outputs": [
        {
          "name": "stdout",
          "output_type": "stream",
          "text": [
            "AVERAGE: \n"
          ]
        },
        {
          "data": {
            "text/plain": [
              "107.0"
            ]
          },
          "execution_count": 3,
          "metadata": {},
          "output_type": "execute_result"
        }
      ],
      "source": [
        "print('AVERAGE: ')\n",
        "np.average(xl)"
      ]
    },
    {
      "cell_type": "code",
      "execution_count": 16,
      "metadata": {},
      "outputs": [
        {
          "data": {
            "text/plain": [
              "112.5"
            ]
          },
          "execution_count": 16,
          "metadata": {},
          "output_type": "execute_result"
        }
      ],
      "source": [
        "225 / 2"
      ]
    },
    {
      "cell_type": "code",
      "execution_count": null,
      "metadata": {},
      "outputs": [],
      "source": []
    }
  ],
  "metadata": {
    "colab": {
      "authorship_tag": "ABX9TyN6VKKWxNGdpbSX8rBnVTrg",
      "include_colab_link": true,
      "name": "Untitled0.ipynb",
      "provenance": []
    },
    "kernelspec": {
      "display_name": "Python 3",
      "name": "python3"
    },
    "language_info": {
      "codemirror_mode": {
        "name": "ipython",
        "version": 3
      },
      "file_extension": ".py",
      "mimetype": "text/x-python",
      "name": "python",
      "nbconvert_exporter": "python",
      "pygments_lexer": "ipython3",
      "version": "3.8.12"
    }
  },
  "nbformat": 4,
  "nbformat_minor": 0
}
