{
  "nbformat": 4,
  "nbformat_minor": 0,
  "metadata": {
    "colab": {
      "name": "Untitled0.ipynb",
      "provenance": [],
      "authorship_tag": "ABX9TyN6VKKWxNGdpbSX8rBnVTrg",
      "include_colab_link": true
    },
    "kernelspec": {
      "name": "python3",
      "display_name": "Python 3"
    },
    "language_info": {
      "name": "python"
    }
  },
  "cells": [
    {
      "cell_type": "markdown",
      "metadata": {
        "id": "view-in-github",
        "colab_type": "text"
      },
      "source": [
        "<a href=\"https://colab.research.google.com/github/jsteinbecker/jts/blob/main/NP%20Randint.ipynb\" target=\"_parent\"><img src=\"https://colab.research.google.com/assets/colab-badge.svg\" alt=\"Open In Colab\"/></a>"
      ]
    },
    {
      "cell_type": "code",
      "execution_count": 1,
      "metadata": {
        "id": "3SLU-WmlcomR"
      },
      "outputs": [],
      "source": [
        "import numpy as np"
      ]
    },
    {
      "cell_type": "code",
      "source": [
        "x = [1]*100\n",
        "xl = [i*np.random.randint(1,225) for i in x]\n",
        "print(xl)"
      ],
      "metadata": {
        "colab": {
          "base_uri": "https://localhost:8080/"
        },
        "id": "r7AWOpR9Eak3",
        "outputId": "5cfa0d9a-f747-43c4-9d64-4d5ea85295b3"
      },
      "execution_count": 27,
      "outputs": [
        {
          "output_type": "stream",
          "name": "stdout",
          "text": [
            "[161, 82, 156, 111, 91, 184, 186, 63, 77, 119, 32, 57, 16, 179, 118, 197, 19, 108, 190, 140, 199, 208, 147, 144, 124, 215, 171, 52, 224, 181, 165, 121, 179, 127, 75, 164, 16, 175, 220, 170, 179, 27, 92, 6, 73, 190, 79, 214, 215, 98, 132, 72, 96, 119, 142, 106, 152, 52, 1, 4, 18, 207, 13, 120, 180, 222, 87, 127, 102, 172, 49, 15, 16, 84, 160, 136, 214, 28, 114, 167, 5, 4, 80, 158, 99, 34, 191, 170, 160, 197, 221, 133, 4, 147, 208, 122, 139, 43, 126, 136]\n"
          ]
        }
      ]
    },
    {
      "cell_type": "code",
      "source": [
        ""
      ],
      "metadata": {
        "id": "C5wUYH8ZE4C6"
      },
      "execution_count": null,
      "outputs": []
    }
  ]
}