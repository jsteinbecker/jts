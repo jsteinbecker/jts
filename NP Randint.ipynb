{
  "cells": [
    {
      "cell_type": "markdown",
      "metadata": {
        "colab_type": "text",
        "id": "view-in-github"
      },
      "source": [
        "<a href=\"https://colab.research.google.com/github/jsteinbecker/jts/blob/main/NP%20Randint.ipynb\" target=\"_parent\"><img src=\"https://colab.research.google.com/assets/colab-badge.svg\" alt=\"Open In Colab\"/></a>"
      ]
    },
    {
      "cell_type": "code",
      "execution_count": 1,
      "metadata": {
        "id": "3SLU-WmlcomR"
      },
      "outputs": [],
      "source": [
        "import numpy as np\n",
        "import random as rn"
      ]
    },
    {
      "cell_type": "code",
      "execution_count": 2,
      "metadata": {
        "colab": {
          "base_uri": "https://localhost:8080/"
        },
        "id": "r7AWOpR9Eak3",
        "outputId": "5cfa0d9a-f747-43c4-9d64-4d5ea85295b3"
      },
      "outputs": [
        {
          "name": "stdout",
          "output_type": "stream",
          "text": [
            "[180, 125, 216, 97, 19, 147, 200, 92, 75, 114, 99, 192, 203, 85, 28, 2, 134, 105, 97, 118, 220, 166, 173, 59, 59, 184, 108, 48, 34, 191, 15, 61, 209, 97, 218, 33, 188, 166, 196, 32, 42, 102, 93, 154, 207, 162, 218, 184, 64, 132, 176, 219, 30, 35, 171, 3, 25, 58, 77, 21, 9, 117, 180, 190, 98, 70, 131, 89, 32, 33, 39, 178, 16, 144, 48, 123, 13, 221, 22, 175, 99, 62, 90, 134, 140, 146, 94, 107, 215, 89, 77, 134, 80, 216, 36, 65, 62, 7, 65, 174]\n"
          ]
        }
      ],
      "source": [
        "x = [1]*100\n",
        "xl = [i*np.random.randint(1,225) for i in x]\n",
        "print(xl)"
      ]
    },
    {
      "cell_type": "code",
      "execution_count": 5,
      "metadata": {
        "id": "C5wUYH8ZE4C6"
      },
      "outputs": [
        {
          "name": "stdout",
          "output_type": "stream",
          "text": [
            "AVERAGE:  109.78\n",
            "TRUE AVG: 112.5\n"
          ]
        }
      ],
      "source": [
        "print(f'AVERAGE:  {np.average(xl)}')\n",
        "print(f'TRUE AVG: {225/2}')\n"
      ]
    },
    {
      "cell_type": "code",
      "execution_count": 21,
      "metadata": {},
      "outputs": [
        {
          "data": {
            "text/plain": [
              "[['t', 'g', 't', 'g', 'g', 'a', 'c', 't', 'c'],\n",
              " ['g', 'g', 'c', 'c', 'a', 'a', 'g', 't', 'a'],\n",
              " ['c', 'c', 't', 't', 'c', 'g', 'c', 'c', 't'],\n",
              " ['t', 'g', 'g', 'g', 'g', 'a', 'c', 't', 'a']]"
            ]
          },
          "execution_count": 21,
          "metadata": {},
          "output_type": "execute_result"
        }
      ],
      "source": [
        "l = [[rn.choice([\"a\",\"c\",\"g\",\"t\"]) for x in range(9)] for x in range(4)]\n",
        "l"
      ]
    },
    {
      "cell_type": "code",
      "execution_count": null,
      "metadata": {},
      "outputs": [],
      "source": []
    }
  ],
  "metadata": {
    "colab": {
      "authorship_tag": "ABX9TyN6VKKWxNGdpbSX8rBnVTrg",
      "include_colab_link": true,
      "name": "Untitled0.ipynb",
      "provenance": []
    },
    "kernelspec": {
      "display_name": "Python 3",
      "name": "python3"
    },
    "language_info": {
      "codemirror_mode": {
        "name": "ipython",
        "version": 3
      },
      "file_extension": ".py",
      "mimetype": "text/x-python",
      "name": "python",
      "nbconvert_exporter": "python",
      "pygments_lexer": "ipython3",
      "version": "3.8.12"
    }
  },
  "nbformat": 4,
  "nbformat_minor": 0
}
