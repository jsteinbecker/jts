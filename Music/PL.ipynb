{
 "cells": [
  {
   "cell_type": "code",
   "execution_count": 1,
   "metadata": {},
   "outputs": [],
   "source": [
    "import re"
   ]
  },
  {
   "cell_type": "code",
   "execution_count": 31,
   "metadata": {},
   "outputs": [
    {
     "name": "stdout",
     "output_type": "stream",
     "text": [
      "['# PRACTICE LOG\\n', '\\n', 'DATE: December 28\\n', 'OB 10m BTVN Sym3-IV 3/5\\n', 'OB 10m BTVN Sym3-II 3/5\\n', 'OB 5m BTVN Sym3-I 3/3\\n', 'CT 10m BTVN Sym9-IV 4/4\\n', 'CT 10m BTVN Sym9-II 4/3']\n"
     ]
    }
   ],
   "source": [
    "#Read a TSV File\n",
    "pl = open(\"PL.tsv\",\"r\")\n",
    "pl = pl.readlines() # Each Line = Entry in List\n",
    "print(pl)"
   ]
  },
  {
   "cell_type": "code",
   "execution_count": 44,
   "metadata": {},
   "outputs": [
    {
     "name": "stdout",
     "output_type": "stream",
     "text": [
      "# PRACTICE LOG\n",
      "DATE: DECEMBER 28\n",
      "OB 10M BTVN SYM3-IV 3/5\n",
      "OB 10M BTVN SYM3-II 3/5\n",
      "OB 5M BTVN SYM3-I 3/3\n",
      "CT 10M BTVN SYM9-IV 4/4\n",
      "CT 10M BTVN SYM9-II 4/3\n"
     ]
    }
   ],
   "source": [
    "def printlist(l):\n",
    "      out = \"\"\n",
    "      for x in l:\n",
    "            if x != \"\\n\":\n",
    "                  z = x.upper()\n",
    "                  out = out + z \n",
    "      print(out)\n",
    "printlist(pl)"
   ]
  },
  {
   "cell_type": "code",
   "execution_count": 87,
   "metadata": {},
   "outputs": [
    {
     "name": "stdout",
     "output_type": "stream",
     "text": [
      "['December 28']\n"
     ]
    }
   ],
   "source": [
    "def read_date_regex (li):\n",
    "#FX finds Date from \n",
    "#              input list\n",
    "      z = []\n",
    "      for x in li:\n",
    "            dateRE = \"(?<=DATE:\\s)\\w*\\s\\d+\"\n",
    "            y = re.findall(dateRE, x)\n",
    "            z = z + y\n",
    "      print(z)\n",
    "# Finding Date info in PracticeLog \"pl\"\n",
    "read_date_regex(pl)"
   ]
  }
 ],
 "metadata": {
  "interpreter": {
   "hash": "8fd295a7007e560b192f709854f66b36915a5382ae77c4fca9f0e6f21003d31e"
  },
  "kernelspec": {
   "display_name": "Python 3.9.5 64-bit ('base': conda)",
   "language": "python",
   "name": "python3"
  },
  "language_info": {
   "codemirror_mode": {
    "name": "ipython",
    "version": 3
   },
   "file_extension": ".py",
   "mimetype": "text/x-python",
   "name": "python",
   "nbconvert_exporter": "python",
   "pygments_lexer": "ipython3",
   "version": "3.9.5"
  },
  "orig_nbformat": 4
 },
 "nbformat": 4,
 "nbformat_minor": 2
}
