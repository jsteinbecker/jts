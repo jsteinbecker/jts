{
 "cells": [
  {
   "cell_type": "markdown",
   "metadata": {},
   "source": [
    "To Play | Cpr|Ins\n",
    "--------|----|---\n",
    "Tchaik |Sym4-I| Ct\n",
    "Glazun |VlnCto-II |  Vn \n",
    "Tchaik |Nutcr-Pas| Ob\n",
    "Barber |Essay2| Ct\n",
    "Elgar  |CloCto-I| Co"
   ]
  }
 ],
 "metadata": {
  "interpreter": {
   "hash": "8fd295a7007e560b192f709854f66b36915a5382ae77c4fca9f0e6f21003d31e"
  },
  "kernelspec": {
   "display_name": "Python 3.9.5 64-bit ('base': conda)",
   "language": "python",
   "name": "python3"
  },
  "language_info": {
   "name": "python",
   "version": "3.9.5"
  },
  "orig_nbformat": 4
 },
 "nbformat": 4,
 "nbformat_minor": 2
}
