{
 "cells": [
  {
   "cell_type": "code",
   "execution_count": 2,
   "metadata": {},
   "outputs": [],
   "source": [
    "import sympy as sp\n",
    "sp.init_printing()\n",
    "\n",
    "from IPython.core.interactiveshell import InteractiveShell\n",
    "InteractiveShell.ast_node_interactivity = \"all\""
   ]
  },
  {
   "cell_type": "markdown",
   "metadata": {},
   "source": [
    "## Define Symbols  "
   ]
  },
  {
   "cell_type": "markdown",
   "metadata": {},
   "source": [
    "Our Symbols:\n",
    "$x$ $y$ $z$ $\\beta$ $\\alpha$ $\\pi$ $Vial$ $t_{\\frac{1}{2}}$\n",
    "\n",
    "Symbols | $x$ | $y$ | $z$ | $\\beta$ | $\\alpha$ | $\\pi$ | $Vial$ | $t_{\\frac{1}{2}}$\n",
    "-------|------|-----|-----|---------|----------|-------|--------|-------------------"
   ]
  },
  {
   "cell_type": "code",
   "execution_count": 3,
   "metadata": {},
   "outputs": [],
   "source": [
    "x, y, z, b, alp, pi, v, hl =  sp.symbols(\"x, y, z, beta, alpha, pi, vial, t_{1/2}\")"
   ]
  },
  {
   "cell_type": "markdown",
   "metadata": {},
   "source": [
    "Equation 1:\n",
    "\n",
    "$x+y+z = 7$"
   ]
  },
  {
   "cell_type": "code",
   "execution_count": 4,
   "metadata": {},
   "outputs": [
    {
     "data": {
      "image/png": "[encoded data removed]",
      "text/latex": [
       "$\\displaystyle x + y + z = 7$"
      ],
      "text/plain": [
       "x + y + z = 7"
      ]
     },
     "execution_count": 4,
     "metadata": {},
     "output_type": "execute_result"
    }
   ],
   "source": [
    "e1 = sp.Eq(x + y + z ,7)\n",
    "e1"
   ]
  },
  {
   "cell_type": "markdown",
   "metadata": {},
   "source": [
    "---"
   ]
  },
  {
   "cell_type": "markdown",
   "metadata": {},
   "source": [
    "Equation 2:\n",
    "\n",
    "$\\frac{y}{9} - 8x = 0$"
   ]
  },
  {
   "cell_type": "code",
   "execution_count": 5,
   "metadata": {},
   "outputs": [
    {
     "data": {
      "image/png": "[encoded data removed]",
      "text/latex": [
       "$\\displaystyle - 8 x + \\frac{y}{9} = 0$"
      ],
      "text/plain": [
       "       y    \n",
       "-8⋅x + ─ = 0\n",
       "       9    "
      ]
     },
     "execution_count": 5,
     "metadata": {},
     "output_type": "execute_result"
    },
    {
     "name": "stdout",
     "output_type": "stream",
     "text": [
      "Solve for y =\n"
     ]
    },
    {
     "data": {
      "image/png": "[encoded data removed]",
      "text/latex": [
       "$\\displaystyle \\left[ 72 x\\right]$"
      ],
      "text/plain": [
       "[72⋅x]"
      ]
     },
     "execution_count": 5,
     "metadata": {},
     "output_type": "execute_result"
    }
   ],
   "source": [
    "e2 = sp.Eq(y /9 - 8*x, 0)\n",
    "e2\n",
    "print(\"Solve for y =\")\n",
    "sp.solve(e2,y)"
   ]
  },
  {
   "cell_type": "code",
   "execution_count": 6,
   "metadata": {},
   "outputs": [
    {
     "name": "stdout",
     "output_type": "stream",
     "text": [
      "Eq1\n"
     ]
    },
    {
     "data": {
      "image/png": "[encoded data removed]",
      "text/latex": [
       "$\\displaystyle x + y + z = 7$"
      ],
      "text/plain": [
       "x + y + z = 7"
      ]
     },
     "execution_count": 6,
     "metadata": {},
     "output_type": "execute_result"
    },
    {
     "name": "stdout",
     "output_type": "stream",
     "text": [
      "Eq2\n"
     ]
    },
    {
     "data": {
      "image/png": "[encoded data removed]",
      "text/latex": [
       "$\\displaystyle - 8 x + \\frac{y}{9} = 0$"
      ],
      "text/plain": [
       "       y    \n",
       "-8⋅x + ─ = 0\n",
       "       9    "
      ]
     },
     "execution_count": 6,
     "metadata": {},
     "output_type": "execute_result"
    },
    {
     "name": "stdout",
     "output_type": "stream",
     "text": [
      "Eq3\n"
     ]
    },
    {
     "data": {
      "image/png": "[encoded data removed]",
      "text/latex": [
       "$\\displaystyle \\frac{3 x}{z} = \\frac{y}{6}$"
      ],
      "text/plain": [
       "3⋅x   y\n",
       "─── = ─\n",
       " z    6"
      ]
     },
     "execution_count": 6,
     "metadata": {},
     "output_type": "execute_result"
    },
    {
     "name": "stdout",
     "output_type": "stream",
     "text": [
      "S\n"
     ]
    },
    {
     "data": {
      "image/png": "[encoded data removed]",
      "text/latex": [
       "$\\displaystyle \\left\\{ z : - x - y + 7\\right\\}$"
      ],
      "text/plain": [
       "{z: -x - y + 7}"
      ]
     },
     "execution_count": 6,
     "metadata": {},
     "output_type": "execute_result"
    }
   ],
   "source": [
    "print(\"Eq1\")\n",
    "e1\n",
    "print(\"Eq2\")\n",
    "e2\n",
    "print(\"Eq3\")\n",
    "e3 = sp.Eq(3 * x /z,y/6)\n",
    "y = y\n",
    "e3\n",
    "print(\"S\")\n",
    "sp.solve([e1, e2],z)"
   ]
  },
  {
   "cell_type": "code",
   "execution_count": 7,
   "metadata": {},
   "outputs": [
    {
     "data": {
      "image/png": "[encoded data removed]",
      "text/latex": [
       "$\\displaystyle \\left[ \\frac{y z}{18}\\right]$"
      ],
      "text/plain": [
       "⎡y⋅z⎤\n",
       "⎢───⎥\n",
       "⎣ 18⎦"
      ]
     },
     "execution_count": 7,
     "metadata": {},
     "output_type": "execute_result"
    }
   ],
   "source": [
    "sp.solve(e3,x)"
   ]
  },
  {
   "cell_type": "code",
   "execution_count": 8,
   "metadata": {},
   "outputs": [
    {
     "data": {
      "image/png": "[encoded data removed]",
      "text/latex": [
       "$\\displaystyle \\alpha + 68$"
      ],
      "text/plain": [
       "α + 68"
      ]
     },
     "execution_count": 8,
     "metadata": {},
     "output_type": "execute_result"
    },
    {
     "data": {
      "image/png": "[encoded data removed]",
      "text/latex": [
       "$\\displaystyle \\alpha$"
      ],
      "text/plain": [
       "α"
      ]
     },
     "execution_count": 8,
     "metadata": {},
     "output_type": "execute_result"
    },
    {
     "name": "stdout",
     "output_type": "stream",
     "text": [
      "Solve for b where a=45\n"
     ]
    },
    {
     "data": {
      "image/png": "[encoded data removed]",
      "text/latex": [
       "$\\displaystyle 113$"
      ],
      "text/plain": [
       "113"
      ]
     },
     "execution_count": 8,
     "metadata": {},
     "output_type": "execute_result"
    }
   ],
   "source": [
    "a = sp.symbols(\"alpha\")\n",
    "eq1 = sp.Eq(a,b / sp.sin(x))\n",
    "b = a +68 \n",
    "b\n",
    "a\n",
    "print(\"Solve for b where a=45\")\n",
    "b.subs(a,45)"
   ]
  },
  {
   "cell_type": "code",
   "execution_count": 9,
   "metadata": {},
   "outputs": [
    {
     "data": {
      "image/png": "[encoded data removed]",
      "text/latex": [
       "$\\displaystyle t_{1/2}$"
      ],
      "text/plain": [
       "t_{1/2}"
      ]
     },
     "execution_count": 9,
     "metadata": {},
     "output_type": "execute_result"
    }
   ],
   "source": [
    "hl"
   ]
  },
  {
   "cell_type": "code",
   "execution_count": 10,
   "metadata": {},
   "outputs": [],
   "source": [
    "vm, vvol, c = sp.symbols(\"v_m, v_vol, conc\")"
   ]
  },
  {
   "cell_type": "code",
   "execution_count": 11,
   "metadata": {},
   "outputs": [
    {
     "data": {
      "image/png": "[encoded data removed]",
      "text/latex": [
       "$\\displaystyle conc = \\frac{v_{m}}{v_{vol}}$"
      ],
      "text/plain": [
       "        vₘ \n",
       "conc = ────\n",
       "       vᵥₒₗ"
      ]
     },
     "execution_count": 11,
     "metadata": {},
     "output_type": "execute_result"
    }
   ],
   "source": [
    "eqCc = sp.Eq(c , vm / vvol)\n",
    "eqCc"
   ]
  },
  {
   "cell_type": "code",
   "execution_count": 12,
   "metadata": {},
   "outputs": [],
   "source": [
    "Cmino, Cmin, kel, t = sp.symbols(\"C_{min} C_{min_{meas}} k_el t\")"
   ]
  },
  {
   "cell_type": "code",
   "execution_count": 13,
   "metadata": {},
   "outputs": [
    {
     "data": {
      "image/png": "[encoded data removed]",
      "text/latex": [
       "$\\displaystyle C_{min_{meas}} e^{k_{el} t}$"
      ],
      "text/plain": [
       "                kₑₗ⋅t\n",
       "C_{min_{meas}}⋅ℯ     "
      ]
     },
     "execution_count": 13,
     "metadata": {},
     "output_type": "execute_result"
    },
    {
     "data": {
      "image/png": "[encoded data removed]",
      "text/latex": [
       "$\\displaystyle y = C_{min_{meas}} e^{k_{el} t}$"
      ],
      "text/plain": [
       "                    kₑₗ⋅t\n",
       "y = C_{min_{meas}}⋅ℯ     "
      ]
     },
     "execution_count": 13,
     "metadata": {},
     "output_type": "execute_result"
    }
   ],
   "source": [
    "Cmino = sp.symbols(\"C_{min0}\",cls=sp.Function)\n",
    "Cmino = Cmin * sp.exp(kel*t)\n",
    "Cmino\n",
    "sp.Eq(y,Cmino)"
   ]
  },
  {
   "cell_type": "code",
   "execution_count": 14,
   "metadata": {},
   "outputs": [
    {
     "data": {
      "image/png": "[encoded data removed]",
      "text/latex": [
       "$\\displaystyle 15.4103976451756$"
      ],
      "text/plain": [
       "15.4103976451756"
      ]
     },
     "execution_count": 14,
     "metadata": {},
     "output_type": "execute_result"
    }
   ],
   "source": [
    "Cmino.subs({Cmin:22, kel:-0.089, t:4})"
   ]
  },
  {
   "cell_type": "code",
   "execution_count": 15,
   "metadata": {},
   "outputs": [
    {
     "data": {
      "image/png": "[encoded data removed]",
      "text/latex": [
       "$\\displaystyle \\left(b^{a}_{1}\\right)^{2} + 5 \\tau$"
      ],
      "text/plain": [
       "      2      \n",
       "b_1__a  + 5⋅τ"
      ]
     },
     "execution_count": 15,
     "metadata": {},
     "output_type": "execute_result"
    },
    {
     "data": {
      "image/png": "[encoded data removed]",
      "text/latex": [
       "$\\displaystyle 64 t^{2} + 48.0$"
      ],
      "text/plain": [
       "    2       \n",
       "64⋅t  + 48.0"
      ]
     },
     "execution_count": 15,
     "metadata": {},
     "output_type": "execute_result"
    }
   ],
   "source": [
    "b1a, tau = sp.symbols(\"b_1^a tau\")\n",
    "myeq = b1a**2 + 5 * tau\n",
    "myeq\n",
    "myeq.subs({b1a:8*t,tau:9.6})"
   ]
  },
  {
   "cell_type": "code",
   "execution_count": 16,
   "metadata": {},
   "outputs": [
    {
     "data": {
      "image/png": "[encoded data removed]",
      "text/latex": [
       "$\\displaystyle 48.0$"
      ],
      "text/plain": [
       "48.0"
      ]
     },
     "execution_count": 16,
     "metadata": {},
     "output_type": "execute_result"
    }
   ],
   "source": [
    "9.6 * 5"
   ]
  },
  {
   "cell_type": "code",
   "execution_count": 17,
   "metadata": {},
   "outputs": [
    {
     "data": {
      "image/png": "[encoded data removed]",
      "text/plain": [
       "<Figure size 432x288 with 1 Axes>"
      ]
     },
     "metadata": {
      "needs_background": "light"
     },
     "output_type": "display_data"
    },
    {
     "data": {
      "text/plain": [
       "<sympy.plotting.plot.Plot at 0x7fe24ab55940>"
      ]
     },
     "execution_count": 17,
     "metadata": {},
     "output_type": "execute_result"
    }
   ],
   "source": [
    "sp.plot(2*x**3/7*x**2+9/x,(x,-20,20))"
   ]
  },
  {
   "cell_type": "markdown",
   "metadata": {},
   "source": [
    "# Indefinite Integral "
   ]
  },
  {
   "cell_type": "code",
   "execution_count": 18,
   "metadata": {},
   "outputs": [
    {
     "data": {
      "image/png": "[encoded data removed]",
      "text/latex": [
       "$\\displaystyle \\frac{2 x^{5}}{7} + \\frac{9}{x}$"
      ],
      "text/plain": [
       "   5    \n",
       "2⋅x    9\n",
       "──── + ─\n",
       " 7     x"
      ]
     },
     "execution_count": 18,
     "metadata": {},
     "output_type": "execute_result"
    },
    {
     "data": {
      "image/png": "[encoded data removed]",
      "text/latex": [
       "$\\displaystyle \\frac{x^{6}}{21} + 9 \\log{\\left(x \\right)}$"
      ],
      "text/plain": [
       " 6           \n",
       "x            \n",
       "── + 9⋅log(x)\n",
       "21           "
      ]
     },
     "execution_count": 18,
     "metadata": {},
     "output_type": "execute_result"
    },
    {
     "name": "stdout",
     "output_type": "stream",
     "text": [
      "+C\n"
     ]
    }
   ],
   "source": [
    "eq4 = 2*x**3/7*x**2+9/x\n",
    "eq4\n",
    "# indefinite integral of an equation\n",
    "eq4int = sp.integrate(eq4)\n",
    "eq4int\n",
    "print(\"+C\")"
   ]
  },
  {
   "cell_type": "code",
   "execution_count": 19,
   "metadata": {},
   "outputs": [
    {
     "data": {
      "image/png": "[encoded data removed]",
      "text/latex": [
       "$\\displaystyle \\frac{10 x^{6}}{7}$"
      ],
      "text/plain": [
       "    6\n",
       "10⋅x \n",
       "─────\n",
       "  7  "
      ]
     },
     "execution_count": 19,
     "metadata": {},
     "output_type": "execute_result"
    }
   ],
   "source": [
    "eq5 = 10 * x ** 6 / 7\n",
    "eq5"
   ]
  },
  {
   "cell_type": "code",
   "execution_count": null,
   "metadata": {},
   "outputs": [],
   "source": [
    "# ins\n",
    "# ODE and PDE Definitions"
   ]
  }
 ],
 "metadata": {
  "interpreter": {
   "hash": "8fd295a7007e560b192f709854f66b36915a5382ae77c4fca9f0e6f21003d31e"
  },
  "kernelspec": {
   "display_name": "Python 3.9.5 64-bit ('base': conda)",
   "language": "python",
   "name": "python3"
  },
  "language_info": {
   "codemirror_mode": {
    "name": "ipython",
    "version": 3
   },
   "file_extension": ".py",
   "mimetype": "text/x-python",
   "name": "python",
   "nbconvert_exporter": "python",
   "pygments_lexer": "ipython3",
   "version": "3.9.5"
  },
  "orig_nbformat": 4
 },
 "nbformat": 4,
 "nbformat_minor": 2
}
