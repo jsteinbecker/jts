{
 "cells": [
  {
   "cell_type": "code",
   "execution_count": 21,
   "metadata": {},
   "outputs": [],
   "source": [
    "from typing import Optional, List\n",
    "from dataclasses import dataclass, field"
   ]
  },
  {
   "cell_type": "code",
   "execution_count": 22,
   "metadata": {},
   "outputs": [],
   "source": [
    "@dataclass\n",
    "class Baltimore:\n",
    "   baltClass: str \n",
    "   geneticMatl: str\n",
    "   strandcount: int\n",
    "   polarity: any = None\n",
    "\n",
    "   def __post_init__(self):\n",
    "      if self.strandcount == 2:\n",
    "         self.polarity = None"
   ]
  },
  {
   "cell_type": "code",
   "execution_count": 23,
   "metadata": {},
   "outputs": [
    {
     "data": {
      "text/plain": [
       "(Baltimore(baltClass='I', geneticMatl='DNA', strandcount=2, polarity=None),\n",
       " Baltimore(baltClass='IV', geneticMatl='RNA', strandcount=1, polarity='Positive'),\n",
       " Baltimore(baltClass='V', geneticMatl='RNA', strandcount=1, polarity='Negative'))"
      ]
     },
     "execution_count": 23,
     "metadata": {},
     "output_type": "execute_result"
    }
   ],
   "source": [
    "cls_I = Baltimore ('I', 'DNA', 2)\n",
    "cls_IV = Baltimore ('IV', 'RNA', 1, \"Positive\")\n",
    "cls_V = Baltimore ('V', 'RNA', 1, 'Negative')\n",
    "\n",
    "cls_I, cls_IV, cls_V"
   ]
  },
  {
   "cell_type": "code",
   "execution_count": 24,
   "metadata": {},
   "outputs": [],
   "source": [
    "@dataclass\n",
    "class Virus:\n",
    "   virus: str\n",
    "\n",
    "   def __repr__(self):\n",
    "      return self.virus"
   ]
  },
  {
   "cell_type": "code",
   "execution_count": 25,
   "metadata": {},
   "outputs": [],
   "source": [
    "@dataclass\n",
    "class VirusFamily:\n",
    "   family: str\n",
    "   viruses =  []\n",
    "   \n",
    "   def _repr_html_ (self):\n",
    "      return f'<div style=\"padding: 10px; border: 2px solid gold; width: 59%;\">VIRUS FAMILY<h2 style=\"foreground-color: blue\">{self.family}</h2><h4>{self.viruses}</h4></div>'\n",
    "   def addVirus(self,virus):\n",
    "      if virus in self.viruses:\n",
    "         print(f'{virus} already in family...')\n",
    "      else:\n",
    "         self.viruses.append(virus)\n",
    "         return self.viruses"
   ]
  },
  {
   "cell_type": "code",
   "execution_count": 26,
   "metadata": {},
   "outputs": [],
   "source": [
    "nipah = Virus(\"Nipah Virus\")\n",
    "hendra = Virus(\"Hendra Virus\")\n",
    "sc2 = Virus(\"SARS-CoV-2\")\n",
    "\n",
    "pmyx = VirusFamily(\"Paramyxoviridae\")\n",
    "cov = VirusFamily(\"Coronaviridae\")"
   ]
  },
  {
   "cell_type": "code",
   "execution_count": 27,
   "metadata": {},
   "outputs": [
    {
     "data": {
      "text/html": [
       "<div style=\"padding: 10px; border: 2px solid gold; width: 59%;\">VIRUS FAMILY<h2 style=\"foreground-color: blue\">Paramyxoviridae</h2><h4>[Nipah Virus, Hendra Virus]</h4></div>"
      ],
      "text/plain": [
       "VirusFamily(family='Paramyxoviridae')"
      ]
     },
     "execution_count": 27,
     "metadata": {},
     "output_type": "execute_result"
    }
   ],
   "source": [
    "pmyx.addVirus(nipah)\n",
    "pmyx.addVirus(hendra)\n",
    "pmyx"
   ]
  },
  {
   "cell_type": "code",
   "execution_count": 28,
   "metadata": {},
   "outputs": [
    {
     "data": {
      "text/html": [
       "<div style=\"padding: 10px; border: 2px solid gold; width: 59%;\">VIRUS FAMILY<h2 style=\"foreground-color: blue\">Coronaviridae</h2><h4>[Nipah Virus, Hendra Virus, SARS-CoV-2]</h4></div>"
      ],
      "text/plain": [
       "VirusFamily(family='Coronaviridae')"
      ]
     },
     "execution_count": 28,
     "metadata": {},
     "output_type": "execute_result"
    }
   ],
   "source": [
    "cov.addVirus(sc2)\n",
    "cov"
   ]
  },
  {
   "cell_type": "code",
   "execution_count": 29,
   "metadata": {},
   "outputs": [
    {
     "data": {
      "text/plain": [
       "(VirusFamily(family='Paramyxoviridae'), VirusFamily(family='Coronaviridae'))"
      ]
     },
     "execution_count": 29,
     "metadata": {},
     "output_type": "execute_result"
    }
   ],
   "source": [
    "pmyx, cov"
   ]
  },
  {
   "cell_type": "code",
   "execution_count": null,
   "metadata": {},
   "outputs": [],
   "source": []
  },
  {
   "cell_type": "code",
   "execution_count": null,
   "metadata": {},
   "outputs": [],
   "source": []
  }
 ],
 "metadata": {
  "interpreter": {
   "hash": "31f2aee4e71d21fbe5cf8b01ff0e069b9275f58929596ceb00d14d90e3e16cd6"
  },
  "kernelspec": {
   "display_name": "Python 3",
   "language": "python",
   "name": "python3"
  },
  "language_info": {
   "codemirror_mode": {
    "name": "ipython",
    "version": 3
   },
   "file_extension": ".py",
   "mimetype": "text/x-python",
   "name": "python",
   "nbconvert_exporter": "python",
   "pygments_lexer": "ipython3",
   "version": "3.6.6+"
  }
 },
 "nbformat": 4,
 "nbformat_minor": 2
}
