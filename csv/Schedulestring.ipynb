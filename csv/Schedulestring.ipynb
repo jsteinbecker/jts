{
 "cells": [
  {
   "cell_type": "code",
   "execution_count": 2,
   "metadata": {},
   "outputs": [
    {
     "data": {
      "text/plain": [
       "['S', 'M', 'T', 'W', 'R', 'F', 'S']"
      ]
     },
     "execution_count": 2,
     "metadata": {},
     "output_type": "execute_result"
    }
   ],
   "source": [
    "wd = \"SMTWRFS\"\n",
    "sch = \"7P x S S S/ x x\"\n",
    "\n",
    "schL = sch.split(\" \")\n",
    "schL\n",
    "wdL = []\n",
    "for d in wd:\n",
    "      wdL.append(d)\n",
    "wdL"
   ]
  },
  {
   "cell_type": "code",
   "execution_count": 15,
   "metadata": {},
   "outputs": [
    {
     "name": "stdout",
     "output_type": "stream",
     "text": [
      "['S:7P', '   ', 'T:S', 'W:S', 'R:S/', '   ', '   ']\n",
      "Days off: m f s\n"
     ]
    }
   ],
   "source": [
    "y = []\n",
    "daysoff = []\n",
    "for x in range(0,7):\n",
    "      if schL[x] != \"x\":\n",
    "            day = wdL[x] + \":\" + schL[x]\n",
    "            y.append(day)\n",
    "      elif schL[x] == \"x\":\n",
    "            y.append(\"   \")\n",
    "            daysoff.append(wdL[x].lower())\n",
    "print(y)\n",
    "print(f'Days off: {\" \".join(daysoff)}')"
   ]
  },
  {
   "cell_type": "code",
   "execution_count": 29,
   "metadata": {},
   "outputs": [
    {
     "name": "stdout",
     "output_type": "stream",
     "text": [
      "Sun  Mon  Tue  Wed  Thu  Fri  Sat\n",
      "7P   .    S    S    S/   .    .    \n"
     ]
    }
   ],
   "source": [
    "weekd = \"Sun  Mon  Tue  Wed  Thu  Fri  Sat\"\n",
    "s = \"7P . S S S/ . .\"\n",
    "sx = s.split(\" \")\n",
    "sxs = []\n",
    "for z in sx:\n",
    "      #spaceneeded = 6 - len(z)\n",
    "      i = z.ljust(5,\" \")\n",
    "      sxs.append(i)\n",
    "sxs\n",
    "out = \"\".join(sxs)\n",
    "out\n",
    "\n",
    "MyS = f'{weekd}\\n{out}'\n",
    "print(MyS)"
   ]
  }
 ],
 "metadata": {
  "interpreter": {
   "hash": "8fd295a7007e560b192f709854f66b36915a5382ae77c4fca9f0e6f21003d31e"
  },
  "kernelspec": {
   "display_name": "Python 3.9.5 64-bit ('base': conda)",
   "language": "python",
   "name": "python3"
  },
  "language_info": {
   "codemirror_mode": {
    "name": "ipython",
    "version": 3
   },
   "file_extension": ".py",
   "mimetype": "text/x-python",
   "name": "python",
   "nbconvert_exporter": "python",
   "pygments_lexer": "ipython3",
   "version": "3.9.5"
  },
  "orig_nbformat": 4
 },
 "nbformat": 4,
 "nbformat_minor": 2
}
