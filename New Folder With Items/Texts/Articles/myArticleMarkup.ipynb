{
 "cells": [
  {
   "cell_type": "markdown",
   "metadata": {},
   "source": [
    "# My Article Markup\n",
    "## Unique\n",
    "Highlights:  ` =( ... )= `\n",
    "\n",
    "Authors: `@[ ... ]`"
   ]
  }
 ],
 "metadata": {
  "language_info": {
   "name": "python"
  },
  "orig_nbformat": 4
 },
 "nbformat": 4,
 "nbformat_minor": 2
}
