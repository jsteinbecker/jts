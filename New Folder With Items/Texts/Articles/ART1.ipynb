{
 "cells": [
  {
   "cell_type": "code",
   "execution_count": 1,
   "metadata": {},
   "outputs": [],
   "source": [
    "import re"
   ]
  },
  {
   "cell_type": "code",
   "execution_count": 14,
   "metadata": {},
   "outputs": [],
   "source": [
    "#FUNCTION: FIND HIGHLIGHT\n",
    "def findHighlight (filestr):\n",
    "      file = open(filestr,\"r\")\n",
    "\n",
    "      r = file.read()\n",
    "      x = re.findall(\"\\=\\(.*\\)\\=\",r)\n",
    "      return x"
   ]
  },
  {
   "cell_type": "code",
   "execution_count": 7,
   "metadata": {},
   "outputs": [],
   "source": [
    "hls = findHighlight(\"art.txt\") #List: Highlights in doc \"Art\""
   ]
  },
  {
   "cell_type": "code",
   "execution_count": 13,
   "metadata": {},
   "outputs": [
    {
     "name": "stdout",
     "output_type": "stream",
     "text": [
      "1 .  =(Merck’s initial study group included 762 people who received 4 pills of either the antiviral or a placebo twice a day, for 5 consecutive days, between May and early August. A second group included 646 people who received the same treatment between August and early October. All of the participants, nearly 80% of whom were located in Europe or Latin America, started the regimen within five days of experiencing COVID-19 symptoms.)=\n",
      "\n",
      "\n",
      "2 .  =(Intentionally introducing mutations into viral RNA might create a more dangerous version of SARS-CoV-2, critics say.)=\n",
      "\n",
      "\n",
      "3 .  =(On 4 November, the United Kingdom became the first to approve molnupiravir)=\n",
      "\n",
      "\n"
     ]
    }
   ],
   "source": [
    "c = 0 # counter for Highlight Number\n",
    "for hl in hls:\n",
    "      c = c + 1\n",
    "      print(c,\". \",hl)\n",
    "      print(\"\\n\")"
   ]
  }
 ],
 "metadata": {
  "interpreter": {
   "hash": "7078331f94d8e29bf81753ff928a9719dae50985736244b73244e29edff3d942"
  },
  "kernelspec": {
   "display_name": "Python 3.6.15 64-bit ('r-reticulate': conda)",
   "language": "python",
   "name": "python3"
  },
  "language_info": {
   "codemirror_mode": {
    "name": "ipython",
    "version": 3
   },
   "file_extension": ".py",
   "mimetype": "text/x-python",
   "name": "python",
   "nbconvert_exporter": "python",
   "pygments_lexer": "ipython3",
   "version": "3.9.5"
  },
  "orig_nbformat": 4
 },
 "nbformat": 4,
 "nbformat_minor": 2
}
