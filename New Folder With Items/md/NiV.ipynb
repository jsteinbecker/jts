{
 "cells": [
  {
   "cell_type": "markdown",
   "metadata": {},
   "source": [
    "<https://gvn.org/update-on-the-nipah-virus-outbreak-in-kerala-india/>\n",
    "\n",
    "# Source Notes\n",
    "\n",
    "Title: \"UPDATE ON THE NIPAH VIRUS OUTBREAK IN KERALA, INDIA\"\n",
    "Date: May 30, 2018\n"
   ]
  },
  {
   "cell_type": "markdown",
   "metadata": {},
   "source": [
    "\n",
    "$CFR \\approx 70\\%$\n",
    "\n",
    "$R_0 = 0.4$\n",
    "\n",
    "Death from Encephalitis\n",
    "\n",
    "Bangledesh vs\n",
    "Malasian Strains\n",
    "-> Approx. 91% SH\n",
    "\n"
   ]
  },
  {
   "cell_type": "markdown",
   "metadata": {},
   "source": [
    "\n",
    "---\n",
    "---\n",
    "---\n",
    "\n",
    "https://www.nature.com/articles/s41541-021-00284-w\n",
    "\n",
    "\"NiV and HeV are also distinguished by their exceptionally broad species tropism and can cause disease in pigs, horses, cats, dogs, guinea pigs, hamsters, ferrets, squirrel monkeys, African green monkeys and humans\"\n",
    "\n",
    "NiV_CFR = $Approx~70%$"
   ]
  },
  {
   "cell_type": "code",
   "execution_count": 4,
   "metadata": {},
   "outputs": [
    {
     "data": {
      "text/plain": [
       "0.7"
      ]
     },
     "execution_count": 4,
     "metadata": {},
     "output_type": "execute_result"
    }
   ],
   "source": [
    "nipah_cfr = 0.7\n",
    "nipah_cfr"
   ]
  },
  {
   "cell_type": "code",
   "execution_count": 3,
   "metadata": {},
   "outputs": [
    {
     "data": {
      "text/plain": [
       "0.4"
      ]
     },
     "execution_count": 3,
     "metadata": {},
     "output_type": "execute_result"
    }
   ],
   "source": [
    "nipah_r0 = 0.4\n",
    "nipah_r0"
   ]
  },
  {
   "cell_type": "code",
   "execution_count": 5,
   "metadata": {},
   "outputs": [
    {
     "data": {
      "text/plain": [
       "'death'"
      ]
     },
     "execution_count": 5,
     "metadata": {},
     "output_type": "execute_result"
    }
   ],
   "source": [
    "class rotavirus:\n",
    "      pass\n",
    "rotavirus.rcpt = \"sialic acid\"\n",
    "rotavirus.symp = [\"diarrhea\",\n",
    "            \"death\"\n",
    "      ]\n",
    "rotavirus.route = \"F/O\""
   ]
  },
  {
   "cell_type": "code",
   "execution_count": null,
   "metadata": {},
   "outputs": [],
   "source": []
  }
 ],
 "metadata": {
  "interpreter": {
   "hash": "8fd295a7007e560b192f709854f66b36915a5382ae77c4fca9f0e6f21003d31e"
  },
  "kernelspec": {
   "display_name": "Python 3.9.5 64-bit ('base': conda)",
   "language": "python",
   "name": "python3"
  },
  "language_info": {
   "codemirror_mode": {
    "name": "ipython",
    "version": 3
   },
   "file_extension": ".py",
   "mimetype": "text/x-python",
   "name": "python",
   "nbconvert_exporter": "python",
   "pygments_lexer": "ipython3",
   "version": "3.9.5"
  },
  "orig_nbformat": 4
 },
 "nbformat": 4,
 "nbformat_minor": 2
}
