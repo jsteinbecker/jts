{
 "cells": [
  {
   "cell_type": "code",
   "execution_count": 1,
   "metadata": {},
   "outputs": [],
   "source": [
    "import sympy as sp\n",
    "sp.init_printing()\n",
    "\n",
    "from IPython.core.interactiveshell import InteractiveShell\n",
    "InteractiveShell.ast_node_interactivity = \"all\""
   ]
  },
  {
   "cell_type": "markdown",
   "metadata": {},
   "source": [
    "# Constants for Vancomycin\n",
    "\n",
    "Constant | Val\n",
    "---------|----\n",
    "$V_D$    | $0.7~L/kg$\n"
   ]
  },
  {
   "cell_type": "markdown",
   "metadata": {},
   "source": [
    "# Clearance Formula"
   ]
  },
  {
   "cell_type": "markdown",
   "metadata": {},
   "source": [
    "$CL = [0.17 + (CLcr \\times 0.06)] \\times (\\frac{DW}{70})$"
   ]
  },
  {
   "cell_type": "code",
   "execution_count": null,
   "metadata": {},
   "outputs": [
    {
     "data": {
      "image/png": "[encoded data removed]",
      "text/latex": [
       "$\\displaystyle CL = \\frac{DW \\left(0.06 Cl_{Cr} + 0.17\\right)}{7}$"
      ],
      "text/plain": [
       "     DW⋅(0.06⋅Cl_{Cr} + 0.17)\n",
       "CL = ────────────────────────\n",
       "                7            "
      ]
     },
     "execution_count": 2,
     "metadata": {},
     "output_type": "execute_result"
    }
   ],
   "source": [
    "CL = sp.symbols(\"CL\") #clearance \n",
    "DW = sp.symbols(\"DW\") #dosing weight --- units= kg\n",
    "Clcr = sp.symbols(\"Cl_{Cr}\")\n",
    "eqCL = sp.Eq(CL, (0.17 + (Clcr * 0.06))*(DW/7))\n",
    "eqCL"
   ]
  },
  {
   "cell_type": "markdown",
   "metadata": {},
   "source": [
    "As DW INCREASES, CL INCREASES\n",
    "\n",
    "As $Cl_{Cr}$ INCREASES, CL INCREASES"
   ]
  },
  {
   "cell_type": "markdown",
   "metadata": {},
   "source": [
    "## Clearance Calculated\n",
    "with $DW$ and $Cl_{cr}$"
   ]
  },
  {
   "cell_type": "code",
   "execution_count": null,
   "metadata": {},
   "outputs": [
    {
     "name": "stdout",
     "output_type": "stream",
     "text": [
      "Avg Wt - High Clcr\n"
     ]
    },
    {
     "data": {
      "image/png": "[encoded data removed]",
      "text/latex": [
       "$\\displaystyle CL = 60.8185714285714$"
      ],
      "text/plain": [
       "CL = 60.8185714285714"
      ]
     },
     "execution_count": 17,
     "metadata": {},
     "output_type": "execute_result"
    },
    {
     "name": "stdout",
     "output_type": "stream",
     "text": [
      "Avg Wt - Lower Clcr\n"
     ]
    },
    {
     "data": {
      "image/png": "[encoded data removed]",
      "text/latex": [
       "$\\displaystyle CL = 37.1614285714286$"
      ],
      "text/plain": [
       "CL = 37.1614285714286"
      ]
     },
     "execution_count": 17,
     "metadata": {},
     "output_type": "execute_result"
    },
    {
     "name": "stdout",
     "output_type": "stream",
     "text": [
      "High Wt - High Clcr\n"
     ]
    },
    {
     "data": {
      "image/png": "[encoded data removed]",
      "text/latex": [
       "$\\displaystyle CL = 148.961428571429$"
      ],
      "text/plain": [
       "CL = 148.961428571429"
      ]
     },
     "execution_count": 17,
     "metadata": {},
     "output_type": "execute_result"
    },
    {
     "data": {
      "image/png": "[encoded data removed]",
      "text/latex": [
       "$\\displaystyle CL = 0.591428571428571 Cl_{Cr} + 1.67571428571429$"
      ],
      "text/plain": [
       "CL = 0.591428571428571⋅Cl_{Cr} + 1.67571428571429"
      ]
     },
     "execution_count": 17,
     "metadata": {},
     "output_type": "execute_result"
    }
   ],
   "source": [
    "print(\"Avg Wt - High Clcr\")\n",
    "eqCL.subs({DW:69, Clcr:100})\n",
    "print(\"Avg Wt - Lower Clcr\")\n",
    "eqCL.subs({DW:69, Clcr:60}) \n",
    "print(\"High Wt - High Clcr\")\n",
    "eqCL.subs({DW:169, Clcr:100})\n",
    "\n",
    "CL_vs_Clcr = eqCL.subs({DW:69})\n",
    "CL_vs_Clcr \n",
    "#e = sp.Expr(0.5914*Clcr + 1.6757)\n",
    "#sp.plot(e)\n",
    "\n",
    "## FIGURE OUT HOW TO SP Plot"
   ]
  },
  {
   "cell_type": "markdown",
   "metadata": {},
   "source": [
    "# C_t Formula"
   ]
  },
  {
   "cell_type": "code",
   "execution_count": null,
   "metadata": {},
   "outputs": [
    {
     "data": {
      "image/png": "[encoded data removed]",
      "text/latex": [
       "$\\displaystyle C_{t} = C_{o} e^{- k_{e} t}$"
      ],
      "text/plain": [
       "         -kₑ⋅t\n",
       "Cₜ = Cₒ⋅ℯ     "
      ]
     },
     "execution_count": 35,
     "metadata": {},
     "output_type": "execute_result"
    }
   ],
   "source": [
    "Ct, Co, ke, t = sp.symbols(\"C_t C_o k_e t\")\n",
    "Ct_equation = sp.Eq(Ct, Co * sp.exp(-ke * t))\n",
    "Ct_equation"
   ]
  },
  {
   "cell_type": "markdown",
   "metadata": {},
   "source": [
    "Variables | Notes\n",
    "----------|-------\n",
    "$C_t$ is the plasma conc. at time $t$\n",
    "$C_o$ is the plasma conc at time 0\n",
    "$k_e$ is the elimination constant\n",
    "t is the time from time 0 to time $t$ | hrs."
   ]
  },
  {
   "cell_type": "code",
   "execution_count": null,
   "metadata": {},
   "outputs": [
    {
     "name": "stdout",
     "output_type": "stream",
     "text": [
      "Solve the Ct Equation for a ke Equation\n",
      "k_e =\n"
     ]
    },
    {
     "data": {
      "image/png": "[encoded data removed]",
      "text/latex": [
       "$\\displaystyle \\left[ \\frac{\\log{\\left(\\frac{C_{o}}{C_{t}} \\right)}}{t}\\right]$"
      ],
      "text/plain": [
       "⎡   ⎛Cₒ⎞⎤\n",
       "⎢log⎜──⎟⎥\n",
       "⎢   ⎝Cₜ⎠⎥\n",
       "⎢───────⎥\n",
       "⎣   t   ⎦"
      ]
     },
     "execution_count": 14,
     "metadata": {},
     "output_type": "execute_result"
    }
   ],
   "source": [
    "print(\"Solve the Ct Equation for a ke Equation\")\n",
    "print(\"k_e =\")\n",
    "sp.solve(Ct_equation, ke)"
   ]
  },
  {
   "cell_type": "code",
   "execution_count": null,
   "metadata": {},
   "outputs": [
    {
     "name": "stdout",
     "output_type": "stream",
     "text": [
      "t =\n"
     ]
    },
    {
     "data": {
      "image/png": "[encoded data removed]",
      "text/latex": [
       "$\\displaystyle \\left[ \\frac{\\log{\\left(\\frac{C_{o}}{C_{t}} \\right)}}{k_{e}}\\right]$"
      ],
      "text/plain": [
       "⎡   ⎛Cₒ⎞⎤\n",
       "⎢log⎜──⎟⎥\n",
       "⎢   ⎝Cₜ⎠⎥\n",
       "⎢───────⎥\n",
       "⎣   kₑ  ⎦"
      ]
     },
     "execution_count": 15,
     "metadata": {},
     "output_type": "execute_result"
    }
   ],
   "source": [
    "# Solved Ct equation for a t Equation\n",
    "print(\"t =\")\n",
    "sp.solve(Ct_equation, t)"
   ]
  },
  {
   "cell_type": "code",
   "execution_count": null,
   "metadata": {},
   "outputs": [
    {
     "name": "stdout",
     "output_type": "stream",
     "text": [
      "C_o =\n"
     ]
    },
    {
     "data": {
      "image/png": "[encoded data removed]",
      "text/latex": [
       "$\\displaystyle \\left[ C_{t} e^{k_{e} t}\\right]$"
      ],
      "text/plain": [
       "⎡    kₑ⋅t⎤\n",
       "⎣Cₜ⋅ℯ    ⎦"
      ]
     },
     "execution_count": 20,
     "metadata": {},
     "output_type": "execute_result"
    }
   ],
   "source": [
    "print(\"C_o =\")\n",
    "Co_equation = sp.solve(Ct_equation, Co)\n",
    "Co_equation"
   ]
  },
  {
   "cell_type": "code",
   "execution_count": null,
   "metadata": {},
   "outputs": [
    {
     "data": {
      "image/png": "[encoded data removed]",
      "text/latex": [
       "$\\displaystyle C_{o} = C_{t} e^{k_{e} t}$"
      ],
      "text/plain": [
       "         kₑ⋅t\n",
       "Cₒ = Cₜ⋅ℯ    "
      ]
     },
     "execution_count": 34,
     "metadata": {},
     "output_type": "execute_result"
    },
    {
     "data": {
      "image/png": "[encoded data removed]",
      "text/latex": [
       "$\\displaystyle \\left[ 34.1992772284848\\right]$"
      ],
      "text/plain": [
       "[34.1992772284848]"
      ]
     },
     "execution_count": 34,
     "metadata": {},
     "output_type": "execute_result"
    }
   ],
   "source": [
    "Co_equation = sp.Eq(Co,Ct * sp.exp(ke * t))\n",
    "Co_equation\n",
    "a = Co_equation.subs({Ct: 28, ke: 0.05, t: 4})\n",
    "sp.solve(a)"
   ]
  },
  {
   "cell_type": "code",
   "execution_count": null,
   "metadata": {},
   "outputs": [],
   "source": [
    "from sympy.plotting import plot"
   ]
  }
 ],
 "metadata": {
  "interpreter": {
   "hash": "8fd295a7007e560b192f709854f66b36915a5382ae77c4fca9f0e6f21003d31e"
  },
  "kernelspec": {
   "display_name": "Python 3.9.5 64-bit ('base': conda)",
   "language": "python",
   "name": "python3"
  },
  "language_info": {
   "codemirror_mode": {
    "name": "ipython",
    "version": 3
   },
   "file_extension": ".py",
   "mimetype": "text/x-python",
   "name": "python",
   "nbconvert_exporter": "python",
   "pygments_lexer": "ipython3",
   "version": "3.9.5"
  },
  "orig_nbformat": 4
 },
 "nbformat": 4,
 "nbformat_minor": 2
}
