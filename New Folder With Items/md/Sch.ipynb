{
 "cells": [
  {
   "cell_type": "markdown",
   "metadata": {},
   "source": [
    "# MICB 7701\n",
    "## Molecular Virology and Pathogenesis\n",
    "*Winter II 2021*"
   ]
  },
  {
   "cell_type": "markdown",
   "metadata": {},
   "source": [
    "`JOSH STEINBECKER`\n",
    "\n",
    "`830033135`"
   ]
  },
  {
   "cell_type": "raw",
   "metadata": {},
   "source": [
    "ENROLLMENT NONDEGREE 2021 GRADUATE NATSCI\n",
    "DEPT MICROB/IMMUNOL\n",
    "CREDITS 3.000 / 0.000L GOOD STANDING"
   ]
  },
  {
   "cell_type": "markdown",
   "metadata": {},
   "source": [
    "```\n",
    "95.588 / 100.000 %\n",
    "```"
   ]
  },
  {
   "cell_type": "markdown",
   "metadata": {},
   "source": [
    "Assignment | Score | Detail\n",
    "-----------|-------|--------\n",
    "EXAM A, Oct| 89    | 90/101\n",
    "EXAM B, Nov| 96    | 96/100\n",
    "EXAM C, Nov| 94    | 94/100\n",
    "EXAM COMPREHENSIVE| 100 | 175/175"
   ]
  },
  {
   "cell_type": "markdown",
   "metadata": {},
   "source": []
  }
 ],
 "metadata": {
  "language_info": {
   "name": "python"
  },
  "orig_nbformat": 4
 },
 "nbformat": 4,
 "nbformat_minor": 2
}
