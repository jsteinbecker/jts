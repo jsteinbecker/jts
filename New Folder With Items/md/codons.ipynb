{
 "cells": [
  {
   "cell_type": "code",
   "execution_count": null,
   "metadata": {},
   "outputs": [],
   "source": []
  },
  {
   "cell_type": "code",
   "execution_count": 5,
   "metadata": {},
   "outputs": [
    {
     "data": {
      "text/plain": [
       "'aaa | aac | aag | aat | aca | acc | acg | act | aga | agc | agg | agt | ata | atc | atg | att | caa | cac | cag | cat | cca | ccc | ccg | cct | cga | cgc | cgg | cgt | cta | ctc | ctg | ctt | gaa | gac | gag | gat | gca | gcc | gcg | gct | gga | ggc | ggg | ggt | gta | gtc | gtg | gtt | taa | tac | tag | tat | tca | tcc | tcg | tct | tga | tgc | tgg | tgt | tta | ttc | ttg | ttt | '"
      ]
     },
     "execution_count": 5,
     "metadata": {},
     "output_type": "execute_result"
    }
   ],
   "source": [
    "list = []\n",
    "lets = \"acgt\"\n",
    "for l1 in lets:\n",
    "      for l2 in lets:\n",
    "            for l3 in lets:\n",
    "                  x = l1 + l2 + l3\n",
    "                  list.append(x)\n",
    "list\n",
    "liststr = \"\"\n",
    "for x in list:\n",
    "      liststr = liststr + x + \" | \"\n",
    "liststr"
   ]
  },
  {
   "cell_type": "markdown",
   "metadata": {},
   "source": [
    "## Codon Searches"
   ]
  },
  {
   "cell_type": "code",
   "execution_count": 6,
   "metadata": {},
   "outputs": [],
   "source": [
    "import re\n",
    "import numpy as np"
   ]
  },
  {
   "cell_type": "code",
   "execution_count": 14,
   "metadata": {},
   "outputs": [
    {
     "data": {
      "text/plain": [
       "['aaa',\n",
       " 'aac',\n",
       " 'aag',\n",
       " 'aat',\n",
       " 'aca',\n",
       " 'acc',\n",
       " 'acg',\n",
       " 'act',\n",
       " 'aga',\n",
       " 'agc',\n",
       " 'agg',\n",
       " 'agt',\n",
       " 'ata',\n",
       " 'atc',\n",
       " 'atg',\n",
       " 'att']"
      ]
     },
     "execution_count": 14,
     "metadata": {},
     "output_type": "execute_result"
    }
   ],
   "source": [
    "#New List acodons, sorted for form 'A-N-N' codons\n",
    "acodons = []\n",
    "for c in list:   \n",
    "      if re.search(\"a\\w\\w\",c):\n",
    "            acodons.append(c)\n",
    "      else:\n",
    "            pass\n",
    "acodons"
   ]
  },
  {
   "cell_type": "markdown",
   "metadata": {},
   "source": [
    "# List to Dictionary Function"
   ]
  },
  {
   "cell_type": "code",
   "execution_count": 8,
   "metadata": {},
   "outputs": [],
   "source": [
    "def listtodic(ls):\n",
    "      y = len(ls)\n",
    "      x = {ls[i]:\"\" for i in range(0,y)}\n",
    "      return x"
   ]
  },
  {
   "cell_type": "code",
   "execution_count": 9,
   "metadata": {},
   "outputs": [
    {
     "data": {
      "text/plain": [
       "{'aaa': '',\n",
       " 'aac': '',\n",
       " 'aag': '',\n",
       " 'aat': '',\n",
       " 'aca': '',\n",
       " 'acc': '',\n",
       " 'acg': '',\n",
       " 'act': '',\n",
       " 'aga': '',\n",
       " 'agc': '',\n",
       " 'agg': '',\n",
       " 'agt': '',\n",
       " 'ata': '',\n",
       " 'atc': '',\n",
       " 'atg': '',\n",
       " 'att': ''}"
      ]
     },
     "execution_count": 9,
     "metadata": {},
     "output_type": "execute_result"
    }
   ],
   "source": [
    "listtodic(acodons)"
   ]
  },
  {
   "cell_type": "markdown",
   "metadata": {},
   "source": [
    "# Array"
   ]
  },
  {
   "cell_type": "code",
   "execution_count": 10,
   "metadata": {},
   "outputs": [
    {
     "name": "stdout",
     "output_type": "stream",
     "text": [
      "[['aaa' 'aac' 'aag' 'aat']\n",
      " ['aca' 'acc' 'acg' 'act']\n",
      " ['aga' 'agc' 'agg' 'agt']\n",
      " ['ata' 'atc' 'atg' 'att']]\n"
     ]
    }
   ],
   "source": [
    "a_array = np.array(acodons)\n",
    "len(a_array)\n",
    "x = np.reshape(a_array,(4,4))\n",
    "print(x)"
   ]
  }
 ],
 "metadata": {
  "interpreter": {
   "hash": "8fd295a7007e560b192f709854f66b36915a5382ae77c4fca9f0e6f21003d31e"
  },
  "kernelspec": {
   "display_name": "Python 3.9.5 64-bit ('base': conda)",
   "language": "python",
   "name": "python3"
  },
  "language_info": {
   "codemirror_mode": {
    "name": "ipython",
    "version": 3
   },
   "file_extension": ".py",
   "mimetype": "text/x-python",
   "name": "python",
   "nbconvert_exporter": "python",
   "pygments_lexer": "ipython3",
   "version": "3.9.5"
  },
  "orig_nbformat": 4
 },
 "nbformat": 4,
 "nbformat_minor": 2
}
