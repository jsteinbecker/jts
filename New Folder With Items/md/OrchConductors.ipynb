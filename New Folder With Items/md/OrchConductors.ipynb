{
 "cells": [
  {
   "cell_type": "markdown",
   "metadata": {},
   "source": [
    "# Orchestra Conductors\n",
    "### Table\n",
    "\n",
    "No  |  Orchestra |  Conductor\n",
    "--- |----------- |----------\n",
    "1   |  Boston Sym | Benjamin Zander\n",
    "2   |  San Franci Sym |   Esa-Peka Salonen\n",
    "3   |  LA Phil  |   Gustavo Dudamel\n",
    "4   |  London Sym | Sir Simon Rattle\n",
    "5   |  Baltimore Sym |    Maron Alsop\n",
    "6   |  Berliner Phil  |   Petrenko"
   ]
  }
 ],
 "metadata": {
  "interpreter": {
   "hash": "8fd295a7007e560b192f709854f66b36915a5382ae77c4fca9f0e6f21003d31e"
  },
  "kernelspec": {
   "display_name": "Python 3.9.5 64-bit ('base': conda)",
   "language": "python",
   "name": "python3"
  },
  "language_info": {
   "name": "python",
   "version": "3.9.5"
  },
  "orig_nbformat": 4
 },
 "nbformat": 4,
 "nbformat_minor": 2
}
